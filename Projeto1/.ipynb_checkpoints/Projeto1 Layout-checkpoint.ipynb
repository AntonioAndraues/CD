{
 "cells": [
  {
   "cell_type": "markdown",
   "metadata": {},
   "source": [
    "___\n",
    "# Ciência dos Dados - PROJETO 1"
   ]
  },
  {
   "cell_type": "markdown",
   "metadata": {},
   "source": [
    "## ANTONIO JOAO ANDRAUES JUNIOR\n",
    "___"
   ]
  },
  {
   "cell_type": "markdown",
   "metadata": {},
   "source": [
    "## TÍTULO DO SEU PROJETO"
   ]
  },
  {
   "cell_type": "markdown",
   "metadata": {},
   "source": [
    "___\n",
    "## Introdução\n",
    "\n",
    "Descreva aqui o que pretende analisar!\n",
    "\n",
    "Capriche no português!! \n",
    "Se quiser pode utilizar pesquisas semelhantes publicadas em sites confiáveis!!\n"
   ]
  },
  {
   "cell_type": "markdown",
   "metadata": {},
   "source": [
    "___\n",
    "## Análise e Resultados"
   ]
  },
  {
   "cell_type": "code",
   "execution_count": 2,
   "metadata": {
    "collapsed": true
   },
   "outputs": [],
   "source": [
    "%matplotlib inline\n",
    "import pandas as pd\n",
    "import matplotlib.pyplot as plt\n",
    "import numpy as np\n",
    "import os"
   ]
  },
  {
   "cell_type": "code",
   "execution_count": 3,
   "metadata": {
    "collapsed": false
   },
   "outputs": [
    {
     "name": "stdout",
     "output_type": "stream",
     "text": [
      "Esperamos trabalhar no diretório\n",
      "C:\\Users\\andra_000\\Documents\\GitHub\\CD17\\Projeto1\n"
     ]
    }
   ],
   "source": [
    "print('Esperamos trabalhar no diretório')\n",
    "print(os.getcwd())"
   ]
  },
  {
   "cell_type": "code",
   "execution_count": 4,
   "metadata": {
    "collapsed": true
   },
   "outputs": [],
   "source": [
    "#Se usar o arquivo descompactado\n",
    "#pd.read_csv('DOM2015.csv',sep=',')\n",
    "\n",
    "#Se usar o arquivo compactado como está no dropbox púbico\n",
    "#pd.read_csv('DOM2015csv.zip', compression='zip', header=0, sep=',', quotechar='\"')"
   ]
  },
  {
   "cell_type": "code",
   "execution_count": 5,
   "metadata": {
    "collapsed": false
   },
   "outputs": [],
   "source": [
    "dados = pd.read_csv('DOM2015csv.zip', compression='zip', header=0, sep=',', quotechar='\"')"
   ]
  },
  {
   "cell_type": "code",
   "execution_count": 13,
   "metadata": {
    "collapsed": false
   },
   "outputs": [
    {
     "data": {
      "text/html": [
       "<div>\n",
       "<table border=\"1\" class=\"dataframe\">\n",
       "  <thead>\n",
       "    <tr style=\"text-align: right;\">\n",
       "      <th></th>\n",
       "      <th>Unnamed: 0</th>\n",
       "      <th>V0101</th>\n",
       "      <th>UF</th>\n",
       "      <th>V0102</th>\n",
       "      <th>V0103</th>\n",
       "      <th>V0104</th>\n",
       "      <th>V0105</th>\n",
       "      <th>V0106</th>\n",
       "      <th>V0201</th>\n",
       "      <th>V0202</th>\n",
       "      <th>...</th>\n",
       "      <th>V4611</th>\n",
       "      <th>V4614</th>\n",
       "      <th>UPA</th>\n",
       "      <th>V4617</th>\n",
       "      <th>V4618</th>\n",
       "      <th>V4620</th>\n",
       "      <th>V4621</th>\n",
       "      <th>V4622</th>\n",
       "      <th>V4624</th>\n",
       "      <th>V9992</th>\n",
       "    </tr>\n",
       "  </thead>\n",
       "  <tbody>\n",
       "    <tr>\n",
       "      <th>0</th>\n",
       "      <td>0</td>\n",
       "      <td>2015</td>\n",
       "      <td>11</td>\n",
       "      <td>15</td>\n",
       "      <td>1</td>\n",
       "      <td>1</td>\n",
       "      <td>1.0</td>\n",
       "      <td>1.0</td>\n",
       "      <td>1.0</td>\n",
       "      <td>4.0</td>\n",
       "      <td>...</td>\n",
       "      <td>270.0</td>\n",
       "      <td>800.0</td>\n",
       "      <td>191</td>\n",
       "      <td>110001</td>\n",
       "      <td>1</td>\n",
       "      <td>1.0</td>\n",
       "      <td>800.0</td>\n",
       "      <td>4.0</td>\n",
       "      <td>1.0</td>\n",
       "      <td>20161104</td>\n",
       "    </tr>\n",
       "    <tr>\n",
       "      <th>1</th>\n",
       "      <td>1</td>\n",
       "      <td>2015</td>\n",
       "      <td>11</td>\n",
       "      <td>15</td>\n",
       "      <td>2</td>\n",
       "      <td>6</td>\n",
       "      <td>NaN</td>\n",
       "      <td>NaN</td>\n",
       "      <td>NaN</td>\n",
       "      <td>NaN</td>\n",
       "      <td>...</td>\n",
       "      <td>NaN</td>\n",
       "      <td>NaN</td>\n",
       "      <td>191</td>\n",
       "      <td>110001</td>\n",
       "      <td>1</td>\n",
       "      <td>NaN</td>\n",
       "      <td>NaN</td>\n",
       "      <td>NaN</td>\n",
       "      <td>NaN</td>\n",
       "      <td>20161104</td>\n",
       "    </tr>\n",
       "    <tr>\n",
       "      <th>2</th>\n",
       "      <td>2</td>\n",
       "      <td>2015</td>\n",
       "      <td>11</td>\n",
       "      <td>15</td>\n",
       "      <td>3</td>\n",
       "      <td>1</td>\n",
       "      <td>1.0</td>\n",
       "      <td>1.0</td>\n",
       "      <td>1.0</td>\n",
       "      <td>4.0</td>\n",
       "      <td>...</td>\n",
       "      <td>270.0</td>\n",
       "      <td>1150.0</td>\n",
       "      <td>191</td>\n",
       "      <td>110001</td>\n",
       "      <td>1</td>\n",
       "      <td>1.0</td>\n",
       "      <td>1150.0</td>\n",
       "      <td>4.0</td>\n",
       "      <td>1.0</td>\n",
       "      <td>20161104</td>\n",
       "    </tr>\n",
       "    <tr>\n",
       "      <th>3</th>\n",
       "      <td>3</td>\n",
       "      <td>2015</td>\n",
       "      <td>11</td>\n",
       "      <td>15</td>\n",
       "      <td>4</td>\n",
       "      <td>1</td>\n",
       "      <td>6.0</td>\n",
       "      <td>4.0</td>\n",
       "      <td>1.0</td>\n",
       "      <td>2.0</td>\n",
       "      <td>...</td>\n",
       "      <td>270.0</td>\n",
       "      <td>4760.0</td>\n",
       "      <td>191</td>\n",
       "      <td>110001</td>\n",
       "      <td>1</td>\n",
       "      <td>6.0</td>\n",
       "      <td>793.0</td>\n",
       "      <td>4.0</td>\n",
       "      <td>2.0</td>\n",
       "      <td>20161104</td>\n",
       "    </tr>\n",
       "    <tr>\n",
       "      <th>4</th>\n",
       "      <td>4</td>\n",
       "      <td>2015</td>\n",
       "      <td>11</td>\n",
       "      <td>15</td>\n",
       "      <td>5</td>\n",
       "      <td>1</td>\n",
       "      <td>2.0</td>\n",
       "      <td>2.0</td>\n",
       "      <td>1.0</td>\n",
       "      <td>2.0</td>\n",
       "      <td>...</td>\n",
       "      <td>271.0</td>\n",
       "      <td>5800.0</td>\n",
       "      <td>191</td>\n",
       "      <td>110001</td>\n",
       "      <td>1</td>\n",
       "      <td>2.0</td>\n",
       "      <td>2900.0</td>\n",
       "      <td>6.0</td>\n",
       "      <td>2.0</td>\n",
       "      <td>20161104</td>\n",
       "    </tr>\n",
       "  </tbody>\n",
       "</table>\n",
       "<p>5 rows × 81 columns</p>\n",
       "</div>"
      ],
      "text/plain": [
       "   Unnamed: 0  V0101  UF  V0102  V0103  V0104  V0105  V0106  V0201  V0202  \\\n",
       "0           0   2015  11     15      1      1    1.0    1.0    1.0    4.0   \n",
       "1           1   2015  11     15      2      6    NaN    NaN    NaN    NaN   \n",
       "2           2   2015  11     15      3      1    1.0    1.0    1.0    4.0   \n",
       "3           3   2015  11     15      4      1    6.0    4.0    1.0    2.0   \n",
       "4           4   2015  11     15      5      1    2.0    2.0    1.0    2.0   \n",
       "\n",
       "     ...     V4611   V4614  UPA   V4617  V4618  V4620   V4621  V4622  V4624  \\\n",
       "0    ...     270.0   800.0  191  110001      1    1.0   800.0    4.0    1.0   \n",
       "1    ...       NaN     NaN  191  110001      1    NaN     NaN    NaN    NaN   \n",
       "2    ...     270.0  1150.0  191  110001      1    1.0  1150.0    4.0    1.0   \n",
       "3    ...     270.0  4760.0  191  110001      1    6.0   793.0    4.0    2.0   \n",
       "4    ...     271.0  5800.0  191  110001      1    2.0  2900.0    6.0    2.0   \n",
       "\n",
       "      V9992  \n",
       "0  20161104  \n",
       "1  20161104  \n",
       "2  20161104  \n",
       "3  20161104  \n",
       "4  20161104  \n",
       "\n",
       "[5 rows x 81 columns]"
      ]
     },
     "execution_count": 13,
     "metadata": {},
     "output_type": "execute_result"
    }
   ],
   "source": [
    "dados.head()"
   ]
  },
  {
   "cell_type": "markdown",
   "metadata": {},
   "source": [
    "___\n",
    "## Conclusão "
   ]
  },
  {
   "cell_type": "markdown",
   "metadata": {
    "collapsed": true
   },
   "source": [
    "Descreva aqui suas conclusões!"
   ]
  },
  {
   "cell_type": "code",
   "execution_count": 117,
   "metadata": {
    "collapsed": false
   },
   "outputs": [],
   "source": [
    "dados.V02424 = dados.V02424.astype('category')"
   ]
  },
  {
   "cell_type": "code",
   "execution_count": 118,
   "metadata": {
    "collapsed": false
   },
   "outputs": [],
   "source": [
    "dados1 = pd.DataFrame({\n",
    "    'Microcomputador':[dados.V0231],\n",
    "    'Cel':[dados.V02324],\n",
    "    'Tablet':[dados.V02325],\n",
    "    'Acesso ao 3G e 4G':[dados.V02424],\n",
    "    'Internet Banda larga':[dados.V02426],\n",
    "    'Internet discada':[dados.V02425],\n",
    "    'Renda Mensal domiciliar':[dados.V4621],\n",
    "})\n"
   ]
  },
  {
   "cell_type": "code",
   "execution_count": 119,
   "metadata": {
    "collapsed": false
   },
   "outputs": [
    {
     "data": {
      "text/html": [
       "<div>\n",
       "<table border=\"1\" class=\"dataframe\">\n",
       "  <thead>\n",
       "    <tr style=\"text-align: right;\">\n",
       "      <th></th>\n",
       "      <th>Acesso ao 3G e 4G</th>\n",
       "      <th>Cel</th>\n",
       "      <th>Internet Banda larga</th>\n",
       "      <th>Internet discada</th>\n",
       "      <th>Microcomputador</th>\n",
       "      <th>Renda Mensal domiciliar</th>\n",
       "      <th>Tablet</th>\n",
       "    </tr>\n",
       "  </thead>\n",
       "  <tbody>\n",
       "    <tr>\n",
       "      <th>0</th>\n",
       "      <td>0         NaN\n",
       "1         NaN\n",
       "2         2.0\n",
       "3   ...</td>\n",
       "      <td>0         NaN\n",
       "1         NaN\n",
       "2         4.0\n",
       "3   ...</td>\n",
       "      <td>0         NaN\n",
       "1         NaN\n",
       "2         2.0\n",
       "3   ...</td>\n",
       "      <td>0         NaN\n",
       "1         NaN\n",
       "2         4.0\n",
       "3   ...</td>\n",
       "      <td>0         3.0\n",
       "1         NaN\n",
       "2         1.0\n",
       "3   ...</td>\n",
       "      <td>0         8.000000e+02\n",
       "1                  NaN\n",
       "...</td>\n",
       "      <td>0         NaN\n",
       "1         NaN\n",
       "2         4.0\n",
       "3   ...</td>\n",
       "    </tr>\n",
       "  </tbody>\n",
       "</table>\n",
       "</div>"
      ],
      "text/plain": [
       "                                   Acesso ao 3G e 4G  \\\n",
       "0  0         NaN\n",
       "1         NaN\n",
       "2         2.0\n",
       "3   ...   \n",
       "\n",
       "                                                 Cel  \\\n",
       "0  0         NaN\n",
       "1         NaN\n",
       "2         4.0\n",
       "3   ...   \n",
       "\n",
       "                                Internet Banda larga  \\\n",
       "0  0         NaN\n",
       "1         NaN\n",
       "2         2.0\n",
       "3   ...   \n",
       "\n",
       "                                    Internet discada  \\\n",
       "0  0         NaN\n",
       "1         NaN\n",
       "2         4.0\n",
       "3   ...   \n",
       "\n",
       "                                     Microcomputador  \\\n",
       "0  0         3.0\n",
       "1         NaN\n",
       "2         1.0\n",
       "3   ...   \n",
       "\n",
       "                             Renda Mensal domiciliar  \\\n",
       "0  0         8.000000e+02\n",
       "1                  NaN\n",
       "...   \n",
       "\n",
       "                                              Tablet  \n",
       "0  0         NaN\n",
       "1         NaN\n",
       "2         4.0\n",
       "3   ...  "
      ]
     },
     "execution_count": 119,
     "metadata": {},
     "output_type": "execute_result"
    }
   ],
   "source": [
    "dados1"
   ]
  },
  {
   "cell_type": "code",
   "execution_count": null,
   "metadata": {
    "collapsed": true
   },
   "outputs": [],
   "source": []
  },
  {
   "cell_type": "code",
   "execution_count": null,
   "metadata": {
    "collapsed": true
   },
   "outputs": [],
   "source": []
  },
  {
   "cell_type": "markdown",
   "metadata": {},
   "source": [
    "# SEGUNDA TENTATIVA!\n",
    "\n",
    "\n",
    "\n",
    "\n",
    "\n",
    "\n",
    "\n",
    "\n",
    "\n"
   ]
  },
  {
   "cell_type": "code",
   "execution_count": null,
   "metadata": {
    "collapsed": true
   },
   "outputs": [],
   "source": []
  },
  {
   "cell_type": "code",
   "execution_count": 120,
   "metadata": {
    "collapsed": true
   },
   "outputs": [],
   "source": [
    "dados2=dados.loc[:,['V0231','V02324','V02325','V02424','V02426','V02425','V4621']]"
   ]
  },
  {
   "cell_type": "code",
   "execution_count": 125,
   "metadata": {
    "collapsed": false
   },
   "outputs": [],
   "source": [
    "dados2=dados2.rename(columns={'V4621': 'Renda Mensal domiciliar'})"
   ]
  },
  {
   "cell_type": "markdown",
   "metadata": {},
   "source": [
    "# RENOMEANDO AS COLUNAS\n",
    "\n",
    "\n",
    "\n",
    "\n",
    "\n",
    "\n",
    "\n"
   ]
  },
  {
   "cell_type": "code",
   "execution_count": 127,
   "metadata": {
    "collapsed": false
   },
   "outputs": [],
   "source": [
    "dados2=dados2.rename(columns={'V0231': 'Microcomputador'})\n",
    "dados2=dados2.rename(columns={'V02324': 'Cel'})\n",
    "dados2=dados2.rename(columns={'V02325': 'Tablet'})\n",
    "dados2=dados2.rename(columns={'V02424': 'Acesso ao 3G e 4G'})\n",
    "dados2=dados2.rename(columns={'V02426': 'Internet Banda larga'})\n",
    "dados2=dados2.rename(columns={'V02425': 'Internet discada'})"
   ]
  },
  {
   "cell_type": "code",
   "execution_count": 132,
   "metadata": {
    "collapsed": false
   },
   "outputs": [
    {
     "data": {
      "text/html": [
       "<div>\n",
       "<table border=\"1\" class=\"dataframe\">\n",
       "  <thead>\n",
       "    <tr style=\"text-align: right;\">\n",
       "      <th></th>\n",
       "      <th>Microcomputador</th>\n",
       "      <th>Cel</th>\n",
       "      <th>Tablet</th>\n",
       "      <th>Acesso ao 3G e 4G</th>\n",
       "      <th>Internet Banda larga</th>\n",
       "      <th>Internet discada</th>\n",
       "      <th>Renda Mensal domiciliar</th>\n",
       "    </tr>\n",
       "  </thead>\n",
       "  <tbody>\n",
       "    <tr>\n",
       "      <th>0</th>\n",
       "      <td>3.0</td>\n",
       "      <td>NaN</td>\n",
       "      <td>NaN</td>\n",
       "      <td>NaN</td>\n",
       "      <td>NaN</td>\n",
       "      <td>NaN</td>\n",
       "      <td>800.0</td>\n",
       "    </tr>\n",
       "    <tr>\n",
       "      <th>1</th>\n",
       "      <td>NaN</td>\n",
       "      <td>NaN</td>\n",
       "      <td>NaN</td>\n",
       "      <td>NaN</td>\n",
       "      <td>NaN</td>\n",
       "      <td>NaN</td>\n",
       "      <td>NaN</td>\n",
       "    </tr>\n",
       "    <tr>\n",
       "      <th>2</th>\n",
       "      <td>1.0</td>\n",
       "      <td>4.0</td>\n",
       "      <td>4.0</td>\n",
       "      <td>2.0</td>\n",
       "      <td>2.0</td>\n",
       "      <td>4.0</td>\n",
       "      <td>1150.0</td>\n",
       "    </tr>\n",
       "    <tr>\n",
       "      <th>3</th>\n",
       "      <td>1.0</td>\n",
       "      <td>2.0</td>\n",
       "      <td>4.0</td>\n",
       "      <td>2.0</td>\n",
       "      <td>2.0</td>\n",
       "      <td>4.0</td>\n",
       "      <td>793.0</td>\n",
       "    </tr>\n",
       "    <tr>\n",
       "      <th>4</th>\n",
       "      <td>3.0</td>\n",
       "      <td>NaN</td>\n",
       "      <td>NaN</td>\n",
       "      <td>NaN</td>\n",
       "      <td>NaN</td>\n",
       "      <td>NaN</td>\n",
       "      <td>2900.0</td>\n",
       "    </tr>\n",
       "  </tbody>\n",
       "</table>\n",
       "</div>"
      ],
      "text/plain": [
       "  Microcomputador  Cel  Tablet Acesso ao 3G e 4G  Internet Banda larga  \\\n",
       "0             3.0  NaN     NaN               NaN                   NaN   \n",
       "1             NaN  NaN     NaN               NaN                   NaN   \n",
       "2             1.0  4.0     4.0               2.0                   2.0   \n",
       "3             1.0  2.0     4.0               2.0                   2.0   \n",
       "4             3.0  NaN     NaN               NaN                   NaN   \n",
       "\n",
       "   Internet discada  Renda Mensal domiciliar  \n",
       "0               NaN                    800.0  \n",
       "1               NaN                      NaN  \n",
       "2               4.0                   1150.0  \n",
       "3               4.0                    793.0  \n",
       "4               NaN                   2900.0  "
      ]
     },
     "execution_count": 132,
     "metadata": {},
     "output_type": "execute_result"
    }
   ],
   "source": [
    "dados2.head()"
   ]
  },
  {
   "cell_type": "markdown",
   "metadata": {},
   "source": [
    "# RENOMEANDO AS RESPOSTAS\n",
    "\n",
    "\n",
    "\n",
    "\n",
    "\n",
    "\n",
    "\n",
    "\n"
   ]
  },
  {
   "cell_type": "code",
   "execution_count": 145,
   "metadata": {
    "collapsed": false
   },
   "outputs": [],
   "source": [
    "dados2['Microcomputador']=dados2[\"Microcomputador\"].astype('category')\n",
    "dados2['Cel']=dados2[\"Cel\"].astype('category')\n",
    "dados2['Tablet']=dados2[\"Tablet\"].astype('category')\n",
    "dados2['Acesso ao 3G e 4G']=dados2[\"Acesso ao 3G e 4G\"].astype('category')\n",
    "dados2['Internet Banda larga']=dados2[\"Internet Banda larga\"].astype('category')\n",
    "dados2['Internet discada']=dados2[\"Internet discada\"].astype('category')"
   ]
  },
  {
   "cell_type": "code",
   "execution_count": 146,
   "metadata": {
    "collapsed": false
   },
   "outputs": [],
   "source": [
    "dados2[\"Microcomputador\"].cat.categories = [\"Sim\", \"Não\"]\n",
    "dados2[\"Cel\"].cat.categories = [\"Sim\", \"Não\"]\n",
    "dados2[\"Tablet\"].cat.categories = [\"Sim\", \"Não\"]\n",
    "dados2[\"Acesso ao 3G e 4G\"].cat.categories = [\"Sim\", \"Não\"]\n",
    "dados2[\"Internet Banda larga\"].cat.categories = [\"Sim\", \"Não\"]\n",
    "dados2[\"Internet discada\"].cat.categories = [\"Sim\", \"Não\"]"
   ]
  },
  {
   "cell_type": "code",
   "execution_count": 147,
   "metadata": {
    "collapsed": false
   },
   "outputs": [
    {
     "data": {
      "text/html": [
       "<div>\n",
       "<table border=\"1\" class=\"dataframe\">\n",
       "  <thead>\n",
       "    <tr style=\"text-align: right;\">\n",
       "      <th></th>\n",
       "      <th>Microcomputador</th>\n",
       "      <th>Cel</th>\n",
       "      <th>Tablet</th>\n",
       "      <th>Acesso ao 3G e 4G</th>\n",
       "      <th>Internet Banda larga</th>\n",
       "      <th>Internet discada</th>\n",
       "      <th>Renda Mensal domiciliar</th>\n",
       "    </tr>\n",
       "  </thead>\n",
       "  <tbody>\n",
       "    <tr>\n",
       "      <th>0</th>\n",
       "      <td>Não</td>\n",
       "      <td>NaN</td>\n",
       "      <td>NaN</td>\n",
       "      <td>NaN</td>\n",
       "      <td>NaN</td>\n",
       "      <td>NaN</td>\n",
       "      <td>800.0</td>\n",
       "    </tr>\n",
       "    <tr>\n",
       "      <th>1</th>\n",
       "      <td>NaN</td>\n",
       "      <td>NaN</td>\n",
       "      <td>NaN</td>\n",
       "      <td>NaN</td>\n",
       "      <td>NaN</td>\n",
       "      <td>NaN</td>\n",
       "      <td>NaN</td>\n",
       "    </tr>\n",
       "    <tr>\n",
       "      <th>2</th>\n",
       "      <td>Sim</td>\n",
       "      <td>Não</td>\n",
       "      <td>Não</td>\n",
       "      <td>Sim</td>\n",
       "      <td>Sim</td>\n",
       "      <td>Não</td>\n",
       "      <td>1150.0</td>\n",
       "    </tr>\n",
       "    <tr>\n",
       "      <th>3</th>\n",
       "      <td>Sim</td>\n",
       "      <td>Sim</td>\n",
       "      <td>Não</td>\n",
       "      <td>Sim</td>\n",
       "      <td>Sim</td>\n",
       "      <td>Não</td>\n",
       "      <td>793.0</td>\n",
       "    </tr>\n",
       "    <tr>\n",
       "      <th>4</th>\n",
       "      <td>Não</td>\n",
       "      <td>NaN</td>\n",
       "      <td>NaN</td>\n",
       "      <td>NaN</td>\n",
       "      <td>NaN</td>\n",
       "      <td>NaN</td>\n",
       "      <td>2900.0</td>\n",
       "    </tr>\n",
       "  </tbody>\n",
       "</table>\n",
       "</div>"
      ],
      "text/plain": [
       "  Microcomputador  Cel Tablet Acesso ao 3G e 4G Internet Banda larga  \\\n",
       "0             Não  NaN    NaN               NaN                  NaN   \n",
       "1             NaN  NaN    NaN               NaN                  NaN   \n",
       "2             Sim  Não    Não               Sim                  Sim   \n",
       "3             Sim  Sim    Não               Sim                  Sim   \n",
       "4             Não  NaN    NaN               NaN                  NaN   \n",
       "\n",
       "  Internet discada  Renda Mensal domiciliar  \n",
       "0              NaN                    800.0  \n",
       "1              NaN                      NaN  \n",
       "2              Não                   1150.0  \n",
       "3              Não                    793.0  \n",
       "4              NaN                   2900.0  "
      ]
     },
     "execution_count": 147,
     "metadata": {},
     "output_type": "execute_result"
    }
   ],
   "source": [
    "dados2.head()"
   ]
  },
  {
   "cell_type": "code",
   "execution_count": null,
   "metadata": {
    "collapsed": true
   },
   "outputs": [],
   "source": []
  }
 ],
 "metadata": {
  "anaconda-cloud": {},
  "kernelspec": {
   "display_name": "Python 3",
   "language": "python",
   "name": "python3"
  },
  "language_info": {
   "codemirror_mode": {
    "name": "ipython",
    "version": 3
   },
   "file_extension": ".py",
   "mimetype": "text/x-python",
   "name": "python",
   "nbconvert_exporter": "python",
   "pygments_lexer": "ipython3",
   "version": "3.6.0"
  }
 },
 "nbformat": 4,
 "nbformat_minor": 1
}
