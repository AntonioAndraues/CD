{
 "cells": [
  {
   "cell_type": "markdown",
   "metadata": {},
   "source": [
    "___\n",
    "# Ciência dos Dados - PROJETO 1"
   ]
  },
  {
   "cell_type": "markdown",
   "metadata": {},
   "source": [
    "## ANTONIO JOAO ANDRAUES JUNIOR\n",
    "___"
   ]
  },
  {
   "cell_type": "markdown",
   "metadata": {},
   "source": [
    "## Investir em Banda Larga ou na tecnologia 3G/4G?\n",
    "    Em Qual investir a curto prazo? E a Longo?"
   ]
  },
  {
   "cell_type": "raw",
   "metadata": {},
   "source": [
    "Escrito a maior parte como Raw NBConvert.\n",
    "Para Melhor compreensão abrir o próprio jupyter notebook"
   ]
  },
  {
   "cell_type": "markdown",
   "metadata": {},
   "source": [
    "# Introdução"
   ]
  },
  {
   "cell_type": "raw",
   "metadata": {},
   "source": [
    "  Imaginando uma empresa que trabalha com o serviço 3G/4G e banda larga, analisei 3 PNADS (Pesquisa Nacional por Amostra de Domicílios) na tentativa de determinar qual seria a tecnologia em maior crescimento e qual deveria ser o foco de seus investimentos.\n",
    "  \n",
    " Classifiquei os investimentos como: Marketing específico para área; Intuito de aumentar a quantidade de usuários pequeno prazo.\n",
    "                                     Própria tecnologia            ; Intuito de aumentar a quantidade de usuários a longo prazo.\n",
    " \n",
    " \n",
    " Recapitulando irei analisar 3 anos(ou seja, 3 PNADs consecutivas) para perceber um padrão de crescimento correlacionando duas vertentes: Possíveis Clientes para tecnologia 3G e 4G e Possíveis Clientes de Internet Banda Larga!\n",
    "\n",
    " \n",
    "PNad`s 2013, 2014, 2015 utilizadas."
   ]
  },
  {
   "cell_type": "markdown",
   "metadata": {},
   "source": [
    "___\n",
    "## Análise e Resultados"
   ]
  },
  {
   "cell_type": "code",
   "execution_count": 259,
   "metadata": {},
   "outputs": [
    {
     "name": "stdout",
     "output_type": "stream",
     "text": [
      "Esperamos trabalhar no diretório\n",
      "C:\\Users\\andra\\Desktop\\INSPER TUDO\\CD\n"
     ]
    }
   ],
   "source": [
    "%matplotlib inline\n",
    "import pandas as pd\n",
    "import matplotlib.pyplot as plt\n",
    "import numpy as np\n",
    "import os\n",
    "print('Esperamos trabalhar no diretório')\n",
    "print(os.getcwd())"
   ]
  },
  {
   "cell_type": "code",
   "execution_count": 260,
   "metadata": {
    "collapsed": true
   },
   "outputs": [],
   "source": [
    "# Import das 3 PNADS\n",
    "dados_2015 = pd.read_csv('DOM2015csv.zip', compression='zip', header=0, sep=',', quotechar='\"')\n",
    "dados_2013 = pd.read_csv('DOM2013csv.zip', compression='zip', header=0, sep=',', quotechar='\"')\n",
    "dados_2014 = pd.read_csv('DOM2014csv.zip', compression='zip', header=0, sep=',', quotechar='\"')"
   ]
  },
  {
   "cell_type": "markdown",
   "metadata": {
    "collapsed": true
   },
   "source": [
    "# conclusões:\n",
    "Descreva aqui suas conclusões!"
   ]
  },
  {
   "cell_type": "markdown",
   "metadata": {},
   "source": [
    "# Definindo variaveis de interesse!\n",
    "\n",
    "\n",
    "\n",
    "\n",
    "\n",
    "\n",
    "\n",
    "\n",
    "\n"
   ]
  },
  {
   "cell_type": "code",
   "execution_count": 261,
   "metadata": {
    "collapsed": true
   },
   "outputs": [],
   "source": [
    "dados_2015=dados_2015.loc[:,['V0231','V02324','V02325','V02424','V02426','V02425','V4621']]\n",
    "dados_2014=dados_2014.loc[:,['V0231','V02324','V02325','V02424','V02426','V02425','V4621']]\n",
    "dados_2013=dados_2013.loc[:,['V0231','V02324','V02325','V02424','V02426','V02425','V4621']]"
   ]
  },
  {
   "cell_type": "markdown",
   "metadata": {},
   "source": [
    "# RENOMEANDO AS COLUNAS\n",
    "\n",
    "\n",
    "\n",
    "\n",
    "\n",
    "\n",
    "\n"
   ]
  },
  {
   "cell_type": "raw",
   "metadata": {},
   "source": [
    "  Nessa sessao selecionei as principais variaveis das quais mais fazem sentido analizar para o que estamos procurando."
   ]
  },
  {
   "cell_type": "code",
   "execution_count": 262,
   "metadata": {
    "collapsed": true
   },
   "outputs": [],
   "source": [
    "dados_2015=dados_2015.rename(columns={'V0231': 'Microcomputador'})\n",
    "dados_2015=dados_2015.rename(columns={'V02324': 'Cel'})\n",
    "dados_2015=dados_2015.rename(columns={'V02325': 'Tablet'})\n",
    "dados_2015=dados_2015.rename(columns={'V02424': 'Acesso_ao_3G_e_4G'})\n",
    "dados_2015=dados_2015.rename(columns={'V02426': 'Internet_Banda_larga'})\n",
    "dados_2015=dados_2015.rename(columns={'V02425': 'Internet_discada'})\n",
    "dados_2015=dados_2015.rename(columns={'V4621': 'Renda_Mensal_domiciliar'})\n",
    "\n",
    "\n",
    "\n",
    "dados_2014=dados_2014.rename(columns={'V0231': 'Microcomputador'})\n",
    "dados_2014=dados_2014.rename(columns={'V02324': 'Cel'})\n",
    "dados_2014=dados_2014.rename(columns={'V02325': 'Tablet'})\n",
    "dados_2014=dados_2014.rename(columns={'V02424': 'Acesso_ao_3G_e_4G'})\n",
    "dados_2014=dados_2014.rename(columns={'V02426': 'Internet_Banda_larga'})\n",
    "dados_2014=dados_2014.rename(columns={'V02425': 'Internet_discada'})\n",
    "dados_2014=dados_2014.rename(columns={'V4621': 'Renda_Mensal_domiciliar'})\n",
    "\n",
    "\n",
    "dados_2013=dados_2013.rename(columns={'V0231': 'Microcomputador'})\n",
    "dados_2013=dados_2013.rename(columns={'V02324': 'Cel'})\n",
    "dados_2013=dados_2013.rename(columns={'V02325': 'Tablet'})\n",
    "dados_2013=dados_2013.rename(columns={'V02424': 'Acesso_ao_3G_e_4G'})\n",
    "dados_2013=dados_2013.rename(columns={'V02426': 'Internet_Banda_larga'})\n",
    "dados_2013=dados_2013.rename(columns={'V02425': 'Internet_discada'})\n",
    "dados_2013=dados_2013.rename(columns={'V4621': 'Renda_Mensal_domiciliar'})"
   ]
  },
  {
   "cell_type": "markdown",
   "metadata": {},
   "source": [
    "# RENOMEANDO AS RESPOSTAS\n",
    "\n",
    "\n",
    "\n",
    "\n",
    "\n",
    "\n",
    "\n",
    "\n",
    "\n"
   ]
  },
  {
   "cell_type": "code",
   "execution_count": 263,
   "metadata": {
    "collapsed": true
   },
   "outputs": [],
   "source": [
    "dados_2015['Microcomputador']=dados_2015[\"Microcomputador\"].astype('category')\n",
    "dados_2015['Cel']=dados_2015[\"Cel\"].astype('category')\n",
    "dados_2015['Tablet']=dados_2015[\"Tablet\"].astype('category')\n",
    "dados_2015['Acesso_ao_3G_e_4G']=dados_2015[\"Acesso_ao_3G_e_4G\"].astype('category')\n",
    "dados_2015['Internet_Banda_larga']=dados_2015[\"Internet_Banda_larga\"].astype('category')\n",
    "dados_2015['Internet_discada']=dados_2015[\"Internet_discada\"].astype('category')\n",
    "\n",
    "dados_2015[\"Microcomputador\"].cat.categories = [\"Sim\", \"Não\"]\n",
    "dados_2015[\"Cel\"].cat.categories = [\"Sim\", \"Não\"]\n",
    "dados_2015[\"Tablet\"].cat.categories = [\"Sim\", \"Não\"]\n",
    "dados_2015[\"Acesso_ao_3G_e_4G\"].cat.categories = [\"Sim\", \"Não\"]\n",
    "dados_2015[\"Internet_Banda_larga\"].cat.categories = [\"Sim\", \"Não\"]\n",
    "dados_2015[\"Internet_discada\"].cat.categories = [\"Sim\", \"Não\"]"
   ]
  },
  {
   "cell_type": "code",
   "execution_count": 264,
   "metadata": {
    "collapsed": true
   },
   "outputs": [],
   "source": [
    "dados_2014['Microcomputador']=dados_2014[\"Microcomputador\"].astype('category')\n",
    "dados_2014['Cel']=dados_2014[\"Cel\"].astype('category')\n",
    "dados_2014['Tablet']=dados_2014[\"Tablet\"].astype('category')\n",
    "dados_2014['Acesso_ao_3G_e_4G']=dados_2014[\"Acesso_ao_3G_e_4G\"].astype('category')\n",
    "dados_2014['Internet_Banda_larga']=dados_2014[\"Internet_Banda_larga\"].astype('category')\n",
    "dados_2014['Internet_discada']=dados_2014[\"Internet_discada\"].astype('category')\n",
    "\n",
    "dados_2014[\"Microcomputador\"].cat.categories = [\"Sim\", \"Não\"]\n",
    "dados_2014[\"Cel\"].cat.categories = [\"Sim\", \"Não\"]\n",
    "dados_2014[\"Tablet\"].cat.categories = [\"Sim\", \"Não\"]\n",
    "dados_2014[\"Acesso_ao_3G_e_4G\"].cat.categories = [\"Sim\", \"Não\"]\n",
    "dados_2014[\"Internet_Banda_larga\"].cat.categories = [\"Sim\", \"Não\"]\n",
    "dados_2014[\"Internet_discada\"].cat.categories = [\"Sim\", \"Não\"]"
   ]
  },
  {
   "cell_type": "code",
   "execution_count": 265,
   "metadata": {
    "collapsed": true
   },
   "outputs": [],
   "source": [
    "dados_2013['Microcomputador']=dados_2013[\"Microcomputador\"].astype('category')\n",
    "dados_2013['Cel']=dados_2013[\"Cel\"].astype('category')\n",
    "dados_2013['Tablet']=dados_2013[\"Tablet\"].astype('category')\n",
    "dados_2013['Acesso_ao_3G_e_4G']=dados_2013[\"Acesso_ao_3G_e_4G\"].astype('category')\n",
    "dados_2013['Internet_Banda_larga']=dados_2013[\"Internet_Banda_larga\"].astype('category')\n",
    "dados_2013['Internet_discada']=dados_2013[\"Internet_discada\"].astype('category')\n",
    "\n",
    "dados_2013[\"Microcomputador\"].cat.categories = [\"Sim\", \"Não\"]\n",
    "dados_2013[\"Cel\"].cat.categories = [\"Sim\", \"Não\"]\n",
    "dados_2013[\"Tablet\"].cat.categories = [\"Sim\", \"Não\"]\n",
    "dados_2013[\"Acesso_ao_3G_e_4G\"].cat.categories = [\"Sim\", \"Não\"]\n",
    "dados_2013[\"Internet_Banda_larga\"].cat.categories = [\"Sim\", \"Não\"]\n",
    "dados_2013[\"Internet_discada\"].cat.categories = [\"Sim\", \"Não\"]"
   ]
  },
  {
   "cell_type": "raw",
   "metadata": {
    "collapsed": true
   },
   "source": [
    "Alem de categorizar as respostas, temos que retirar todos aqueles que não responderam tudo que foi estabelecido para nossa pesquisa."
   ]
  },
  {
   "cell_type": "code",
   "execution_count": 266,
   "metadata": {
    "collapsed": true
   },
   "outputs": [],
   "source": [
    "dados_2015=dados_2015.dropna(0,how=\"any\")\n",
    "dados_2014=dados_2014.dropna(0,how=\"any\")\n",
    "dados_2013=dados_2013.dropna(0,how=\"any\")"
   ]
  },
  {
   "cell_type": "markdown",
   "metadata": {},
   "source": [
    "# RETIRANDO OS QUE POSSUEM TUDO PARA FACILITAR A ANALIZE DOS GRUPO ALVO!"
   ]
  },
  {
   "cell_type": "raw",
   "metadata": {},
   "source": [
    " Como a nossa pergunta esta mais focada para os possíveis novos clientes, nessa sessão retirei aqueles que já possuem tudo.\n",
    "  "
   ]
  },
  {
   "cell_type": "code",
   "execution_count": 267,
   "metadata": {
    "collapsed": true
   },
   "outputs": [],
   "source": [
    "Ricos=dados_2015.iloc[:,[0,1,2,3,4]]"
   ]
  },
  {
   "cell_type": "code",
   "execution_count": 268,
   "metadata": {},
   "outputs": [
    {
     "data": {
      "text/html": [
       "<div>\n",
       "<style>\n",
       "    .dataframe thead tr:only-child th {\n",
       "        text-align: right;\n",
       "    }\n",
       "\n",
       "    .dataframe thead th {\n",
       "        text-align: left;\n",
       "    }\n",
       "\n",
       "    .dataframe tbody tr th {\n",
       "        vertical-align: top;\n",
       "    }\n",
       "</style>\n",
       "<table border=\"1\" class=\"dataframe\">\n",
       "  <thead>\n",
       "    <tr style=\"text-align: right;\">\n",
       "      <th></th>\n",
       "      <th>Microcomputador</th>\n",
       "      <th>Cel</th>\n",
       "      <th>Tablet</th>\n",
       "      <th>Acesso_ao_3G_e_4G</th>\n",
       "      <th>Internet_Banda_larga</th>\n",
       "    </tr>\n",
       "  </thead>\n",
       "  <tbody>\n",
       "    <tr>\n",
       "      <th>167</th>\n",
       "      <td>Sim</td>\n",
       "      <td>Sim</td>\n",
       "      <td>Sim</td>\n",
       "      <td>Sim</td>\n",
       "      <td>Sim</td>\n",
       "    </tr>\n",
       "    <tr>\n",
       "      <th>176</th>\n",
       "      <td>Sim</td>\n",
       "      <td>Sim</td>\n",
       "      <td>Sim</td>\n",
       "      <td>Sim</td>\n",
       "      <td>Sim</td>\n",
       "    </tr>\n",
       "    <tr>\n",
       "      <th>249</th>\n",
       "      <td>Sim</td>\n",
       "      <td>Sim</td>\n",
       "      <td>Sim</td>\n",
       "      <td>Sim</td>\n",
       "      <td>Sim</td>\n",
       "    </tr>\n",
       "    <tr>\n",
       "      <th>339</th>\n",
       "      <td>Sim</td>\n",
       "      <td>Sim</td>\n",
       "      <td>Sim</td>\n",
       "      <td>Sim</td>\n",
       "      <td>Sim</td>\n",
       "    </tr>\n",
       "    <tr>\n",
       "      <th>601</th>\n",
       "      <td>Sim</td>\n",
       "      <td>Sim</td>\n",
       "      <td>Sim</td>\n",
       "      <td>Sim</td>\n",
       "      <td>Sim</td>\n",
       "    </tr>\n",
       "  </tbody>\n",
       "</table>\n",
       "</div>"
      ],
      "text/plain": [
       "    Microcomputador  Cel Tablet Acesso_ao_3G_e_4G Internet_Banda_larga\n",
       "167             Sim  Sim    Sim               Sim                  Sim\n",
       "176             Sim  Sim    Sim               Sim                  Sim\n",
       "249             Sim  Sim    Sim               Sim                  Sim\n",
       "339             Sim  Sim    Sim               Sim                  Sim\n",
       "601             Sim  Sim    Sim               Sim                  Sim"
      ]
     },
     "execution_count": 268,
     "metadata": {},
     "output_type": "execute_result"
    }
   ],
   "source": [
    "Ricos=Ricos[Ricos.Microcomputador == \"Sim\"]\n",
    "Ricos=Ricos[Ricos.Cel == \"Sim\"]\n",
    "Ricos=Ricos[Ricos.Tablet ==  \"Sim\"]\n",
    "Ricos=Ricos[Ricos.Internet_Banda_larga == \"Sim\"]\n",
    "Ricos=Ricos[Ricos.Acesso_ao_3G_e_4G == \"Sim\"]\n",
    "Ricos.head()"
   ]
  },
  {
   "cell_type": "markdown",
   "metadata": {},
   "source": [
    "# Potenciais futuros Clientes 3G e 4G"
   ]
  },
  {
   "cell_type": "raw",
   "metadata": {},
   "source": [
    "Classifiquei como um potencial cliente do 3G e 4G aqueles que possuem celular e/ou table e não possuem um plano com a empresa."
   ]
  },
  {
   "cell_type": "code",
   "execution_count": 269,
   "metadata": {},
   "outputs": [
    {
     "data": {
      "text/html": [
       "<div>\n",
       "<style>\n",
       "    .dataframe thead tr:only-child th {\n",
       "        text-align: right;\n",
       "    }\n",
       "\n",
       "    .dataframe thead th {\n",
       "        text-align: left;\n",
       "    }\n",
       "\n",
       "    .dataframe tbody tr th {\n",
       "        vertical-align: top;\n",
       "    }\n",
       "</style>\n",
       "<table border=\"1\" class=\"dataframe\">\n",
       "  <thead>\n",
       "    <tr style=\"text-align: right;\">\n",
       "      <th></th>\n",
       "      <th>Microcomputador</th>\n",
       "      <th>Cel</th>\n",
       "      <th>Tablet</th>\n",
       "      <th>Acesso_ao_3G_e_4G</th>\n",
       "      <th>Internet_Banda_larga</th>\n",
       "      <th>Internet_discada</th>\n",
       "      <th>Renda_Mensal_domiciliar</th>\n",
       "    </tr>\n",
       "  </thead>\n",
       "  <tbody>\n",
       "    <tr>\n",
       "      <th>17</th>\n",
       "      <td>Não</td>\n",
       "      <td>Sim</td>\n",
       "      <td>Sim</td>\n",
       "      <td>Não</td>\n",
       "      <td>Sim</td>\n",
       "      <td>Não</td>\n",
       "      <td>750.0</td>\n",
       "    </tr>\n",
       "    <tr>\n",
       "      <th>18</th>\n",
       "      <td>Sim</td>\n",
       "      <td>Sim</td>\n",
       "      <td>Não</td>\n",
       "      <td>Não</td>\n",
       "      <td>Sim</td>\n",
       "      <td>Não</td>\n",
       "      <td>1437.0</td>\n",
       "    </tr>\n",
       "    <tr>\n",
       "      <th>20</th>\n",
       "      <td>Sim</td>\n",
       "      <td>Sim</td>\n",
       "      <td>Não</td>\n",
       "      <td>Não</td>\n",
       "      <td>Sim</td>\n",
       "      <td>Não</td>\n",
       "      <td>933.0</td>\n",
       "    </tr>\n",
       "    <tr>\n",
       "      <th>23</th>\n",
       "      <td>Não</td>\n",
       "      <td>Sim</td>\n",
       "      <td>Não</td>\n",
       "      <td>Não</td>\n",
       "      <td>Sim</td>\n",
       "      <td>Não</td>\n",
       "      <td>2666.0</td>\n",
       "    </tr>\n",
       "    <tr>\n",
       "      <th>27</th>\n",
       "      <td>Sim</td>\n",
       "      <td>Sim</td>\n",
       "      <td>Não</td>\n",
       "      <td>Não</td>\n",
       "      <td>Sim</td>\n",
       "      <td>Não</td>\n",
       "      <td>3325.0</td>\n",
       "    </tr>\n",
       "  </tbody>\n",
       "</table>\n",
       "</div>"
      ],
      "text/plain": [
       "   Microcomputador  Cel Tablet Acesso_ao_3G_e_4G Internet_Banda_larga  \\\n",
       "17             Não  Sim    Sim               Não                  Sim   \n",
       "18             Sim  Sim    Não               Não                  Sim   \n",
       "20             Sim  Sim    Não               Não                  Sim   \n",
       "23             Não  Sim    Não               Não                  Sim   \n",
       "27             Sim  Sim    Não               Não                  Sim   \n",
       "\n",
       "   Internet_discada  Renda_Mensal_domiciliar  \n",
       "17              Não                    750.0  \n",
       "18              Não                   1437.0  \n",
       "20              Não                    933.0  \n",
       "23              Não                   2666.0  \n",
       "27              Não                   3325.0  "
      ]
     },
     "execution_count": 269,
     "metadata": {},
     "output_type": "execute_result"
    }
   ],
   "source": [
    "Pot3G_2015=dados_2015[dados_2015.Acesso_ao_3G_e_4G != \"Sim\"]\n",
    "Pot3G_2015=Pot3G_2015[(Pot3G_2015.Cel != \"Não\") | (Pot3G_2015.Tablet != \"Não\")]\n",
    "Pot3G_2015.head()"
   ]
  },
  {
   "cell_type": "markdown",
   "metadata": {},
   "source": [
    "# Potencial futuros Clientes Internet Banda Larga "
   ]
  },
  {
   "cell_type": "raw",
   "metadata": {
    "collapsed": true
   },
   "source": [
    "Assim como os potenciais Clientes do 3G, aqui filtrei as pessoas das quais não possuem Internet Banda larga ou possuem Internet discada."
   ]
  },
  {
   "cell_type": "code",
   "execution_count": 270,
   "metadata": {},
   "outputs": [
    {
     "data": {
      "text/html": [
       "<div>\n",
       "<style>\n",
       "    .dataframe thead tr:only-child th {\n",
       "        text-align: right;\n",
       "    }\n",
       "\n",
       "    .dataframe thead th {\n",
       "        text-align: left;\n",
       "    }\n",
       "\n",
       "    .dataframe tbody tr th {\n",
       "        vertical-align: top;\n",
       "    }\n",
       "</style>\n",
       "<table border=\"1\" class=\"dataframe\">\n",
       "  <thead>\n",
       "    <tr style=\"text-align: right;\">\n",
       "      <th></th>\n",
       "      <th>Microcomputador</th>\n",
       "      <th>Cel</th>\n",
       "      <th>Tablet</th>\n",
       "      <th>Acesso_ao_3G_e_4G</th>\n",
       "      <th>Internet_Banda_larga</th>\n",
       "      <th>Internet_discada</th>\n",
       "      <th>Renda_Mensal_domiciliar</th>\n",
       "    </tr>\n",
       "  </thead>\n",
       "  <tbody>\n",
       "    <tr>\n",
       "      <th>19</th>\n",
       "      <td>Sim</td>\n",
       "      <td>Não</td>\n",
       "      <td>Não</td>\n",
       "      <td>Não</td>\n",
       "      <td>Não</td>\n",
       "      <td>Sim</td>\n",
       "      <td>600.0</td>\n",
       "    </tr>\n",
       "    <tr>\n",
       "      <th>32</th>\n",
       "      <td>Sim</td>\n",
       "      <td>Não</td>\n",
       "      <td>Não</td>\n",
       "      <td>Não</td>\n",
       "      <td>Não</td>\n",
       "      <td>Sim</td>\n",
       "      <td>366.0</td>\n",
       "    </tr>\n",
       "    <tr>\n",
       "      <th>33</th>\n",
       "      <td>Sim</td>\n",
       "      <td>Não</td>\n",
       "      <td>Não</td>\n",
       "      <td>Não</td>\n",
       "      <td>Não</td>\n",
       "      <td>Sim</td>\n",
       "      <td>175.0</td>\n",
       "    </tr>\n",
       "    <tr>\n",
       "      <th>37</th>\n",
       "      <td>Sim</td>\n",
       "      <td>Sim</td>\n",
       "      <td>Não</td>\n",
       "      <td>Sim</td>\n",
       "      <td>Não</td>\n",
       "      <td>Sim</td>\n",
       "      <td>596.0</td>\n",
       "    </tr>\n",
       "    <tr>\n",
       "      <th>39</th>\n",
       "      <td>Sim</td>\n",
       "      <td>Sim</td>\n",
       "      <td>Sim</td>\n",
       "      <td>Sim</td>\n",
       "      <td>Não</td>\n",
       "      <td>Sim</td>\n",
       "      <td>196.0</td>\n",
       "    </tr>\n",
       "  </tbody>\n",
       "</table>\n",
       "</div>"
      ],
      "text/plain": [
       "   Microcomputador  Cel Tablet Acesso_ao_3G_e_4G Internet_Banda_larga  \\\n",
       "19             Sim  Não    Não               Não                  Não   \n",
       "32             Sim  Não    Não               Não                  Não   \n",
       "33             Sim  Não    Não               Não                  Não   \n",
       "37             Sim  Sim    Não               Sim                  Não   \n",
       "39             Sim  Sim    Sim               Sim                  Não   \n",
       "\n",
       "   Internet_discada  Renda_Mensal_domiciliar  \n",
       "19              Sim                    600.0  \n",
       "32              Sim                    366.0  \n",
       "33              Sim                    175.0  \n",
       "37              Sim                    596.0  \n",
       "39              Sim                    196.0  "
      ]
     },
     "execution_count": 270,
     "metadata": {},
     "output_type": "execute_result"
    }
   ],
   "source": [
    "PotNet=dados_2015[(dados_2015.Internet_discada == \"Sim\") | (dados_2015.Internet_Banda_larga == \"Não\")]\n",
    "PotNet=dados_2015[(dados_2015.Internet_discada == \"Sim\") | (dados_2015.Internet_Banda_larga == \"Não\")]\n",
    "Pot_Net_2015=PotNet[(PotNet.Internet_Banda_larga==\"Sim\")&(PotNet.Internet_discada==\"Sim\")]\n",
    "PotNet_2015=PotNet.drop(PotNet[(PotNet.Internet_Banda_larga==\"Sim\")].index,0)\n",
    "PotNet_2015.head()"
   ]
  },
  {
   "cell_type": "markdown",
   "metadata": {},
   "source": [
    "# Renda Dos Potenciais Clientes"
   ]
  },
  {
   "cell_type": "raw",
   "metadata": {},
   "source": [
    "Neste caso vamos comparar a renda dos Clientes de 3G com as dos Clientes de Net. UNICAMENTE NO ULTIMO ANO! \n",
    "Com o principal intuito de descobrir qual dos dois possui maior potencial financeiro para adesão, podendo assim classificar em qual dos dois devemos investir em curto prazo."
   ]
  },
  {
   "cell_type": "code",
   "execution_count": 271,
   "metadata": {},
   "outputs": [],
   "source": [
    "# Renda Potencial Net\n",
    "PotNet2_renda_2015=Pot_Net_2015.iloc[:,-1]\n",
    "# Renda Potencial 3G\n",
    "Pot3G_renda_2015 = Pot3G_2015.iloc[:,-1]\n"
   ]
  },
  {
   "cell_type": "code",
   "execution_count": 272,
   "metadata": {},
   "outputs": [
    {
     "data": {
      "text/plain": [
       "count    8.920000e+02\n",
       "mean     2.242153e+10\n",
       "std      1.481330e+11\n",
       "min      0.000000e+00\n",
       "25%      6.750000e+02\n",
       "50%      1.158500e+03\n",
       "75%      2.000000e+03\n",
       "max      1.000000e+12\n",
       "Name: Renda_Mensal_domiciliar, dtype: float64"
      ]
     },
     "execution_count": 272,
     "metadata": {},
     "output_type": "execute_result"
    }
   ],
   "source": [
    "PotNet2_renda_2015.describe()\n",
    "# Podemos perceber que ambas rendas possuem valores absurdos nos seus max(devido a respostas nulas)."
   ]
  },
  {
   "cell_type": "markdown",
   "metadata": {},
   "source": [
    "# AJUSTANDO VALORES NULOS:  Representados como(999999999999)"
   ]
  },
  {
   "cell_type": "code",
   "execution_count": 276,
   "metadata": {},
   "outputs": [],
   "source": [
    "PotNet2_renda_2015=PotNet2_renda_2015[(PotNet2_renda_2015<999999999999)]\n",
    "Pot3G_renda_2015=Pot3G_renda_2015[(Pot3G_renda_2015<999999999999)]\n"
   ]
  },
  {
   "cell_type": "markdown",
   "metadata": {},
   "source": [
    "# Graficos Rendas:"
   ]
  },
  {
   "cell_type": "code",
   "execution_count": 279,
   "metadata": {},
   "outputs": [
    {
     "name": "stdout",
     "output_type": "stream",
     "text": [
      "Potenciais da Net\n",
      " mean      1.751019e+03\n",
      "median    1.125500e+03\n",
      "std       2.278908e+03\n",
      "mad       1.248585e+03\n",
      "var       5.193420e+06\n",
      "dtype: float64\n",
      "Potenciais 3G \n",
      " mean      1.548309e+03\n",
      "median    9.750000e+02\n",
      "std       2.006242e+03\n",
      "mad       1.126415e+03\n",
      "var       4.025006e+06\n",
      "dtype: float64\n"
     ]
    },
    {
     "data": {
      "image/png": "[encoded data removed]",
      "text/plain": [
       "<matplotlib.figure.Figure at 0x1e9b5a6d748>"
      ]
     },
     "metadata": {},
     "output_type": "display_data"
    },
    {
     "data": {
      "image/png": "[encoded data removed]",
      "text/plain": [
       "<matplotlib.figure.Figure at 0x1e9b54bdac8>"
      ]
     },
     "metadata": {},
     "output_type": "display_data"
    }
   ],
   "source": [
    "fig = plt.figure(figsize=(20,20))\n",
    "plt.subplot(222)\n",
    "plot = PotNet2_renda_2015.plot(kind='box',title='Potenciais da Net')#, color='red')\n",
    "plot.set_ylim([-100, 4000])\n",
    "idx = ['mean','median','std','mad','var']\n",
    "dfnet = pd.Series([ PotNet2_renda_2015.mean(), \n",
    "                             PotNet2_renda_2015.median(), \n",
    "                             PotNet2_renda_2015.std(),\n",
    "                             PotNet2_renda_2015.mad(), \n",
    "                             PotNet2_renda_2015.var(), \n",
    "               ], index=idx)\n",
    "    \n",
    "print(\"Potenciais da Net\\n {0}\".format(dfnet))\n",
    "\n",
    "fig = plt.figure(figsize=(20,20))\n",
    "plt.subplot(222)\n",
    "plot = Pot3G_renda_2015.plot(kind='box',title='Potenciais 3G')#, color='red')\n",
    "plot.set_ylim([-100, 4000])\n",
    "\n",
    "idx = ['mean','median','std','mad','var']\n",
    "df3G = pd.Series([ Pot3G_renda_2015.mean(), \n",
    "                             Pot3G_renda_2015.median(), \n",
    "                             Pot3G_renda_2015.std(),\n",
    "                             Pot3G_renda_2015.mad(), \n",
    "                             Pot3G_renda_2015.var(), \n",
    "               ], index=idx)\n",
    "\n",
    "print(\"Potenciais 3G \\n {0}\".format(df3G))"
   ]
  },
  {
   "cell_type": "markdown",
   "metadata": {},
   "source": [
    "# 1ª conclusão:"
   ]
  },
  {
   "cell_type": "raw",
   "metadata": {},
   "source": [
    "A partir da analize dos dois graficos podemos responder uma parte da nossa pergunta!\n",
    " Em qual invertir em curto prazo?\n",
    " \n",
    " Podemos perceber que os Clientes Potenciais de Internet possuem uma renda mensal domiciliar em media melhor que os Clientes de 3G, oque permite concluirmos que: considerando um curto prazo a taxa de adesão por exemplo de uma hipotética campanha de marketing seria possivelmente maior nos Potencias Clientes de Internet."
   ]
  },
  {
   "cell_type": "markdown",
   "metadata": {},
   "source": [
    "# Comparação Longo Prazo:"
   ]
  },
  {
   "cell_type": "raw",
   "metadata": {},
   "source": [
    "Aqui utilizarei de um artefado comparativo basico para estabelezer qual deve ser o mais rentavel a longo prazo.\n",
    "\n",
    "\n",
    "Comparação dos Potenciais clientes Internet com Potenciais Clientes 3G  (Isso nos 3 anos pre-estabelecidos).\n",
    "\n",
    "Qual aparentar crescimento mais rápido, deve a longo prazo, ser mais rentável. Logo melhor para investimentos a de período estendido.\n"
   ]
  },
  {
   "cell_type": "code",
   "execution_count": 286,
   "metadata": {},
   "outputs": [],
   "source": [
    "dadosP_2015 = pd.DataFrame({\n",
    "    'Potencial_Internet':((dados_2015.Internet_discada == \"Sim\") | (dados_2015.Internet_Banda_larga == \"Não\"))&(dados_2015.Internet_Banda_larga!=\"Sim\"),\n",
    "    'Potencial_3G':(dados_2015.Acesso_ao_3G_e_4G != \"Sim\")&((dados_2015.Cel != \"Não\") | (dados_2015.Tablet != \"Não\"))\n",
    "\n",
    "})\n",
    "\n",
    "\n",
    "\n",
    "dadosP_2014 = pd.DataFrame({\n",
    "    'Potencial_Internet':((dados_2014.Internet_discada == \"Sim\") | (dados_2014.Internet_Banda_larga == \"Não\"))&(dados_2014.Internet_Banda_larga!=\"Sim\"),\n",
    "    'Potencial_3G':(dados_2014.Acesso_ao_3G_e_4G != \"Sim\")&((dados_2014.Cel != \"Não\") | (dados_2014.Tablet != \"Não\"))\n",
    "\n",
    "})\n",
    "\n",
    "\n",
    "\n",
    "dadosP_2013 = pd.DataFrame({\n",
    "    'Potencial_Internet':((dados_2013.Internet_discada == \"Sim\") | (dados_2013.Internet_Banda_larga == \"Não\"))&(dados_2013.Internet_Banda_larga!=\"Sim\"),\n",
    "    'Potencial_3G':(dados_2013.Acesso_ao_3G_e_4G != \"Sim\")&((dados_2013.Cel != \"Não\") | (dados_2013.Tablet != \"Não\"))\n",
    "\n",
    "})\n",
    "\n",
    "dadosP_2015[\"Potencial_Internet\"]=dadosP_2015[\"Potencial_Internet\"].astype('category')\n",
    "dadosP_2015[\"Potencial_Internet\"].cat.categories = [\"Não\", \"Sim\"]\n",
    "dadosP_2015[\"Potencial_3G\"]=dadosP_2015[\"Potencial_3G\"].astype('category')\n",
    "dadosP_2015[\"Potencial_3G\"].cat.categories = [\"Não\", \"Sim\"]\n",
    "\n",
    "\n",
    "dadosP_2014[\"Potencial_Internet\"]=dadosP_2014[\"Potencial_Internet\"].astype('category')\n",
    "dadosP_2014[\"Potencial_Internet\"].cat.categories = [\"Não\", \"Sim\"]\n",
    "dadosP_2014[\"Potencial_3G\"]=dadosP_2014[\"Potencial_3G\"].astype('category')\n",
    "dadosP_2014[\"Potencial_3G\"].cat.categories = [\"Não\", \"Sim\"]\n",
    "\n",
    "\n",
    "dadosP_2013[\"Potencial_Internet\"]=dadosP_2013[\"Potencial_Internet\"].astype('category')\n",
    "dadosP_2013[\"Potencial_Internet\"].cat.categories = [\"Não\", \"Sim\"]\n",
    "dadosP_2013[\"Potencial_3G\"]=dadosP_2013[\"Potencial_3G\"].astype('category')\n",
    "dadosP_2013[\"Potencial_3G\"].cat.categories = [\"Não\", \"Sim\"]"
   ]
  },
  {
   "cell_type": "code",
   "execution_count": 287,
   "metadata": {},
   "outputs": [
    {
     "name": "stdout",
     "output_type": "stream",
     "text": [
      "Tabela comparando o potencial de Internet com o Potencial de 3G\n"
     ]
    },
    {
     "data": {
      "image/png": "[encoded data removed]",
      "text/plain": [
       "<matplotlib.figure.Figure at 0x1e9b54589b0>"
      ]
     },
     "metadata": {},
     "output_type": "display_data"
    },
    {
     "data": {
      "image/png": "[encoded data removed]",
      "text/plain": [
       "<matplotlib.figure.Figure at 0x1e9ba4b2828>"
      ]
     },
     "metadata": {},
     "output_type": "display_data"
    },
    {
     "data": {
      "image/png": "[encoded data removed]",
      "text/plain": [
       "<matplotlib.figure.Figure at 0x1e9b41f4710>"
      ]
     },
     "metadata": {},
     "output_type": "display_data"
    }
   ],
   "source": [
    "print(\"Tabela comparando o potencial de Internet com o Potencial de 3G\")\n",
    "# print(\"Perebemos que o potencial de investimento deste ano e maior na Internet do que no 3G\")\n",
    "ct2013=pd.crosstab(dadosP_2013.Potencial_3G , dadosP_2013.Potencial_Internet)\n",
    "ct2013.plot(kind='bar', title=\"2013\",figsize=(6,6),color=('red','blue'))\n",
    "\n",
    "\n",
    "ct2014=pd.crosstab(dadosP_2014.Potencial_3G , dadosP_2014.Potencial_Internet)\n",
    "ct2014.plot(kind='bar', title=\"2014\",figsize=(6,6),color=('red','blue'))\n",
    "\n",
    "\n",
    "ct2015=pd.crosstab(dadosP_2015.Potencial_3G , dadosP_2015.Potencial_Internet)\n",
    "ct2015.plot(kind='bar', title=\"2015\",figsize=(6,6),color=('red','blue'))\n",
    "\n",
    "plt.show()"
   ]
  },
  {
   "cell_type": "code",
   "execution_count": 305,
   "metadata": {},
   "outputs": [
    {
     "data": {
      "text/plain": [
       "<matplotlib.axes._subplots.AxesSubplot at 0x1e9b60561d0>"
      ]
     },
     "execution_count": 305,
     "metadata": {},
     "output_type": "execute_result"
    },
    {
     "data": {
      "image/png": "[encoded data removed]",
      "text/plain": [
       "<matplotlib.figure.Figure at 0x1e9aa198400>"
      ]
     },
     "metadata": {},
     "output_type": "display_data"
    }
   ],
   "source": [
    "import plotly.plotly as py\n",
    "import cufflinks as cf\n",
    "import pandas as pd\n",
    "import numpy as np\n",
    "dpInternet_2013_14_15 = pd.DataFrame({\n",
    "    '2013':(dadosP_2013.Potencial_Internet),\n",
    "    '2014':(dadosP_2014.Potencial_Internet),\n",
    "    '2015':(dadosP_2015.Potencial_Internet)\n",
    "\n",
    "})\n",
    "\n",
    "dp3G_2013_14_15 = pd.DataFrame({\n",
    "    '2013':(dadosP_2013.Potencial_3G),\n",
    "    '2014':(dadosP_2014.Potencial_3G),\n",
    "    '2015':(dadosP_2015.Potencial_3G)\n",
    "\n",
    "})\n",
    "# PRIMEIRO NET\n",
    "dpInternet_2013_14_15=dpInternet_2013_14_15.dropna(0,how=\"any\")\n",
    "dp3G_2013_14_15=dp3G_2013_14_15.dropna(0,how=\"any\")\n",
    "dpInternet_2013_14_15=dpInternet_2013_14_15.groupby(['2013','2015'], as_index=True, sort=True, group_keys=True, squeeze=False).size() \n",
    "dpInternet_2013_14_15=dpInternet_2013_14_15.unstack()\n",
    "dpInternet_2013_14_15.plot(kind='bar')\n",
    "\n"
   ]
  },
  {
   "cell_type": "code",
   "execution_count": 306,
   "metadata": {},
   "outputs": [
    {
     "data": {
      "text/plain": [
       "<matplotlib.axes._subplots.AxesSubplot at 0x1e9b4ff1b38>"
      ]
     },
     "execution_count": 306,
     "metadata": {},
     "output_type": "execute_result"
    },
    {
     "data": {
      "image/png": "[encoded data removed]",
      "text/plain": [
       "<matplotlib.figure.Figure at 0x1e9b58df080>"
      ]
     },
     "metadata": {},
     "output_type": "display_data"
    }
   ],
   "source": [
    "# SEGUNDO 3G\n",
    "dp3G_2013_14_15=dp3G_2013_14_15.groupby(['2013','2015'], as_index=True, sort=True, group_keys=True, squeeze=False ).size() \n",
    "dp3G_2013_14_15=dp3G_2013_14_15.unstack()\n",
    "dp3G_2013_14_15.plot(kind='bar')"
   ]
  },
  {
   "cell_type": "markdown",
   "metadata": {},
   "source": [
    "# 2ª conclusão:\n",
    "A partir da analize dos graficos podemos responder a segunda e ultima parte da nossa pergunta!\n",
    " Em qual invertir a longo prazo?\n",
    " \n",
    " Podemos perceber ao analisar os dois extremos(2013;2015) do nossos dataframes que os Clientes com Potencial de Internet tem ligeira vantagem ao que se diz a adesão com o passar do tempo. Nada que seja relevante a curto prazo, porem ao considerarmos mais anos e a quantia do investimento esses valores vão se distanciando.\n"
   ]
  },
  {
   "cell_type": "markdown",
   "metadata": {
    "collapsed": true
   },
   "source": [
    "# Conclusão Final :\n",
    "  Neste específico caso a Empresa deveria Investir a maior parte dos seus fundos, tanto a curto prazo, quanto a longo, na Tecnologia BANDA LARGA!!"
   ]
  },
  {
   "cell_type": "code",
   "execution_count": null,
   "metadata": {
    "collapsed": true
   },
   "outputs": [],
   "source": []
  }
 ],
 "metadata": {
  "anaconda-cloud": {},
  "kernelspec": {
   "display_name": "Python 3",
   "language": "python",
   "name": "python3"
  },
  "language_info": {
   "codemirror_mode": {
    "name": "ipython",
    "version": 3
   },
   "file_extension": ".py",
   "mimetype": "text/x-python",
   "name": "python",
   "nbconvert_exporter": "python",
   "pygments_lexer": "ipython3",
   "version": "3.6.1"
  }
 },
 "nbformat": 4,
 "nbformat_minor": 1
}
