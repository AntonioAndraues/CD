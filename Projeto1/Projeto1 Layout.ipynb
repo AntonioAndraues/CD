{
 "cells": [
  {
   "cell_type": "markdown",
   "metadata": {},
   "source": [
    "___\n",
    "# Ciência dos Dados - PROJETO 1"
   ]
  },
  {
   "cell_type": "markdown",
   "metadata": {},
   "source": [
    "## ANTONIO JOAO ANDRAUES JUNIOR\n",
    "___"
   ]
  },
  {
   "cell_type": "markdown",
   "metadata": {},
   "source": [
    "## Investir em Banda Larga ou na tecnologia 4G?"
   ]
  },
  {
   "cell_type": "markdown",
   "metadata": {},
   "source": [
    "___\n",
    "## Introdução\n",
    "\n",
    " Pretendo analisar 3 anos para perceber um padrão de crescimento correlacionando duas vertentes: Possíveis Clientes para tecnologia 3G e 4G e Possíveis Clientes de Internet Banda Larga!\n",
    "    Logo pretendo saber qual tecnologia e a melhor para investimentos!\n",
    "\n",
    " \n",
    "Ao imaginar uma empresa que tenha serviços 3G/4G e também ofereça Internet Banda Larga, Criei variáveis que filtrassem os inúmeros dados das PNad`s 2013, 2014, 2015 para retirar informações relevantes!\n"
   ]
  },
  {
   "cell_type": "markdown",
   "metadata": {},
   "source": [
    "___\n",
    "## Análise e Resultados"
   ]
  },
  {
   "cell_type": "code",
   "execution_count": 106,
   "metadata": {
    "collapsed": true
   },
   "outputs": [],
   "source": [
    "%matplotlib inline\n",
    "import pandas as pd\n",
    "import matplotlib.pyplot as plt\n",
    "import numpy as np\n",
    "import os"
   ]
  },
  {
   "cell_type": "code",
   "execution_count": 108,
   "metadata": {
    "collapsed": false
   },
   "outputs": [
    {
     "name": "stdout",
     "output_type": "stream",
     "text": [
      "Esperamos trabalhar no diretório\n",
      "C:\\Users\\andra_000\\Documents\\GitHub\\CD\\Projeto1\n"
     ]
    }
   ],
   "source": [
    "print('Esperamos trabalhar no diretório')\n",
    "print(os.getcwd())"
   ]
  },
  {
   "cell_type": "code",
   "execution_count": 109,
   "metadata": {
    "collapsed": true
   },
   "outputs": [],
   "source": [
    "#Se usar o arquivo descompactado\n",
    "#pd.read_csv('DOM2015.csv',sep=',')\n",
    "\n",
    "#Se usar o arquivo compactado como está no dropbox púbico\n",
    "#pd.read_csv('DOM2015csv.zip', compression='zip', header=0, sep=',', quotechar='\"')"
   ]
  },
  {
   "cell_type": "code",
   "execution_count": 110,
   "metadata": {
    "collapsed": false
   },
   "outputs": [],
   "source": [
    "dados_2015 = pd.read_csv('DOM2015csv.zip', compression='zip', header=0, sep=',', quotechar='\"')\n",
    "dados_2013 = pd.read_csv('DOM2013csv.zip', compression='zip', header=0, sep=',', quotechar='\"')\n",
    "dados_2014 = pd.read_csv('DOM2014csv.zip', compression='zip', header=0, sep=',', quotechar='\"')\n",
    "def percConvert(tab):\n",
    "  return (tab/float(tab[-1])*100).round(decimals=0)"
   ]
  },
  {
   "cell_type": "markdown",
   "metadata": {
    "collapsed": true
   },
   "source": [
    "# conclusões:\n",
    "Descreva aqui suas conclusões!"
   ]
  },
  {
   "cell_type": "code",
   "execution_count": 21,
   "metadata": {
    "collapsed": false
   },
   "outputs": [],
   "source": [
    "# dados.V02424 = dados.V02424.astype('category')\n",
    "# dados1 = pd.DataFrame({\n",
    "#     'Microcomputador':dados.V0231,\n",
    "#     'Cel':dados.V02324,\n",
    "#     'Tablet':dados.V02325,\n",
    "#     'Acesso ao 3G e 4G':dados.V02424,\n",
    "#     'Internet Banda larga':dados.V02426,\n",
    "#     'Internet discada':dados.V02425,\n",
    "#     'Renda_Mensal_domiciliar':dados.V4621,\n",
    "# })\n"
   ]
  },
  {
   "cell_type": "code",
   "execution_count": 111,
   "metadata": {
    "collapsed": false
   },
   "outputs": [],
   "source": [
    "# dados1.head()"
   ]
  },
  {
   "cell_type": "markdown",
   "metadata": {},
   "source": [
    "# SEGUNDA TENTATIVA!\n",
    "\n",
    "\n",
    "\n",
    "\n",
    "\n",
    "\n",
    "\n",
    "\n",
    "\n"
   ]
  },
  {
   "cell_type": "code",
   "execution_count": null,
   "metadata": {
    "collapsed": true
   },
   "outputs": [],
   "source": []
  },
  {
   "cell_type": "code",
   "execution_count": 112,
   "metadata": {
    "collapsed": false
   },
   "outputs": [],
   "source": [
    "dados_2015=dados_2015.loc[:,['V0231','V02324','V02325','V02424','V02426','V02425','V4621']]\n",
    "dados_2014=dados_2014.loc[:,['V0231','V02324','V02325','V02424','V02426','V02425','V4621']]\n",
    "dados_2013=dados_2013.loc[:,['V0231','V02324','V02325','V02424','V02426','V02425','V4621']]"
   ]
  },
  {
   "cell_type": "code",
   "execution_count": null,
   "metadata": {
    "collapsed": false
   },
   "outputs": [],
   "source": []
  },
  {
   "cell_type": "markdown",
   "metadata": {},
   "source": [
    "# RENOMEANDO AS COLUNAS\n",
    "\n",
    "\n",
    "\n",
    "\n",
    "\n",
    "\n",
    "\n"
   ]
  },
  {
   "cell_type": "code",
   "execution_count": 113,
   "metadata": {
    "collapsed": false
   },
   "outputs": [],
   "source": [
    "dados_2015=dados_2015.rename(columns={'V0231': 'Microcomputador'})\n",
    "dados_2015=dados_2015.rename(columns={'V02324': 'Cel'})\n",
    "dados_2015=dados_2015.rename(columns={'V02325': 'Tablet'})\n",
    "dados_2015=dados_2015.rename(columns={'V02424': 'Acesso_ao_3G_e_4G'})\n",
    "dados_2015=dados_2015.rename(columns={'V02426': 'Internet_Banda_larga'})\n",
    "dados_2015=dados_2015.rename(columns={'V02425': 'Internet_discada'})\n",
    "dados_2015=dados_2015.rename(columns={'V4621': 'Renda_Mensal_domiciliar'})\n",
    "\n",
    "\n",
    "\n",
    "dados_2014=dados_2014.rename(columns={'V0231': 'Microcomputador'})\n",
    "dados_2014=dados_2014.rename(columns={'V02324': 'Cel'})\n",
    "dados_2014=dados_2014.rename(columns={'V02325': 'Tablet'})\n",
    "dados_2014=dados_2014.rename(columns={'V02424': 'Acesso_ao_3G_e_4G'})\n",
    "dados_2014=dados_2014.rename(columns={'V02426': 'Internet_Banda_larga'})\n",
    "dados_2014=dados_2014.rename(columns={'V02425': 'Internet_discada'})\n",
    "dados_2014=dados_2014.rename(columns={'V4621': 'Renda_Mensal_domiciliar'})\n",
    "\n",
    "\n",
    "dados_2013=dados_2013.rename(columns={'V0231': 'Microcomputador'})\n",
    "dados_2013=dados_2013.rename(columns={'V02324': 'Cel'})\n",
    "dados_2013=dados_2013.rename(columns={'V02325': 'Tablet'})\n",
    "dados_2013=dados_2013.rename(columns={'V02424': 'Acesso_ao_3G_e_4G'})\n",
    "dados_2013=dados_2013.rename(columns={'V02426': 'Internet_Banda_larga'})\n",
    "dados_2013=dados_2013.rename(columns={'V02425': 'Internet_discada'})\n",
    "dados_2013=dados_2013.rename(columns={'V4621': 'Renda_Mensal_domiciliar'})"
   ]
  },
  {
   "cell_type": "code",
   "execution_count": 114,
   "metadata": {
    "collapsed": false
   },
   "outputs": [],
   "source": [
    "# dados_2013.head()"
   ]
  },
  {
   "cell_type": "markdown",
   "metadata": {},
   "source": [
    "# RENOMEANDO AS RESPOSTAS\n",
    "\n",
    "\n",
    "\n",
    "\n",
    "\n",
    "\n",
    "\n",
    "\n"
   ]
  },
  {
   "cell_type": "code",
   "execution_count": 115,
   "metadata": {
    "collapsed": false
   },
   "outputs": [],
   "source": [
    "dados_2015['Microcomputador']=dados_2015[\"Microcomputador\"].astype('category')\n",
    "dados_2015['Cel']=dados_2015[\"Cel\"].astype('category')\n",
    "dados_2015['Tablet']=dados_2015[\"Tablet\"].astype('category')\n",
    "dados_2015['Acesso_ao_3G_e_4G']=dados_2015[\"Acesso_ao_3G_e_4G\"].astype('category')\n",
    "dados_2015['Internet_Banda_larga']=dados_2015[\"Internet_Banda_larga\"].astype('category')\n",
    "dados_2015['Internet_discada']=dados_2015[\"Internet_discada\"].astype('category')\n",
    "\n",
    "dados_2015[\"Microcomputador\"].cat.categories = [\"Sim\", \"Não\"]\n",
    "dados_2015[\"Cel\"].cat.categories = [\"Sim\", \"Não\"]\n",
    "dados_2015[\"Tablet\"].cat.categories = [\"Sim\", \"Não\"]\n",
    "dados_2015[\"Acesso_ao_3G_e_4G\"].cat.categories = [\"Sim\", \"Não\"]\n",
    "dados_2015[\"Internet_Banda_larga\"].cat.categories = [\"Sim\", \"Não\"]\n",
    "dados_2015[\"Internet_discada\"].cat.categories = [\"Sim\", \"Não\"]"
   ]
  },
  {
   "cell_type": "code",
   "execution_count": 116,
   "metadata": {
    "collapsed": false
   },
   "outputs": [],
   "source": [
    "dados_2014['Microcomputador']=dados_2014[\"Microcomputador\"].astype('category')\n",
    "dados_2014['Cel']=dados_2014[\"Cel\"].astype('category')\n",
    "dados_2014['Tablet']=dados_2014[\"Tablet\"].astype('category')\n",
    "dados_2014['Acesso_ao_3G_e_4G']=dados_2014[\"Acesso_ao_3G_e_4G\"].astype('category')\n",
    "dados_2014['Internet_Banda_larga']=dados_2014[\"Internet_Banda_larga\"].astype('category')\n",
    "dados_2014['Internet_discada']=dados_2014[\"Internet_discada\"].astype('category')\n",
    "\n",
    "dados_2014[\"Microcomputador\"].cat.categories = [\"Sim\", \"Não\"]\n",
    "dados_2014[\"Cel\"].cat.categories = [\"Sim\", \"Não\"]\n",
    "dados_2014[\"Tablet\"].cat.categories = [\"Sim\", \"Não\"]\n",
    "dados_2014[\"Acesso_ao_3G_e_4G\"].cat.categories = [\"Sim\", \"Não\"]\n",
    "dados_2014[\"Internet_Banda_larga\"].cat.categories = [\"Sim\", \"Não\"]\n",
    "dados_2014[\"Internet_discada\"].cat.categories = [\"Sim\", \"Não\"]"
   ]
  },
  {
   "cell_type": "code",
   "execution_count": 117,
   "metadata": {
    "collapsed": true
   },
   "outputs": [],
   "source": [
    "dados_2013['Microcomputador']=dados_2013[\"Microcomputador\"].astype('category')\n",
    "dados_2013['Cel']=dados_2013[\"Cel\"].astype('category')\n",
    "dados_2013['Tablet']=dados_2013[\"Tablet\"].astype('category')\n",
    "dados_2013['Acesso_ao_3G_e_4G']=dados_2013[\"Acesso_ao_3G_e_4G\"].astype('category')\n",
    "dados_2013['Internet_Banda_larga']=dados_2013[\"Internet_Banda_larga\"].astype('category')\n",
    "dados_2013['Internet_discada']=dados_2013[\"Internet_discada\"].astype('category')\n",
    "\n",
    "dados_2013[\"Microcomputador\"].cat.categories = [\"Sim\", \"Não\"]\n",
    "dados_2013[\"Cel\"].cat.categories = [\"Sim\", \"Não\"]\n",
    "dados_2013[\"Tablet\"].cat.categories = [\"Sim\", \"Não\"]\n",
    "dados_2013[\"Acesso_ao_3G_e_4G\"].cat.categories = [\"Sim\", \"Não\"]\n",
    "dados_2013[\"Internet_Banda_larga\"].cat.categories = [\"Sim\", \"Não\"]\n",
    "dados_2013[\"Internet_discada\"].cat.categories = [\"Sim\", \"Não\"]"
   ]
  },
  {
   "cell_type": "code",
   "execution_count": 118,
   "metadata": {
    "collapsed": false
   },
   "outputs": [],
   "source": [
    "# dados_2013.head()"
   ]
  },
  {
   "cell_type": "code",
   "execution_count": 119,
   "metadata": {
    "collapsed": false
   },
   "outputs": [],
   "source": [
    "dados_2015=dados_2015.dropna(0,how=\"any\")\n",
    "dados_2014=dados_2014.dropna(0,how=\"any\")\n",
    "dados_2013=dados_2013.dropna(0,how=\"any\")"
   ]
  },
  {
   "cell_type": "code",
   "execution_count": 120,
   "metadata": {
    "collapsed": false
   },
   "outputs": [],
   "source": [
    "# dados_2013.head()"
   ]
  },
  {
   "cell_type": "markdown",
   "metadata": {},
   "source": [
    "# RETIRANDO OS QUE POSSUEM TUDO PARA FACILITAR A ANALIZE DOS GRUPO ALVO!"
   ]
  },
  {
   "cell_type": "code",
   "execution_count": 121,
   "metadata": {
    "collapsed": false
   },
   "outputs": [],
   "source": [
    "Ricos=dados_2015.iloc[:,[0,1,2,3,4]]"
   ]
  },
  {
   "cell_type": "code",
   "execution_count": 122,
   "metadata": {
    "collapsed": false
   },
   "outputs": [
    {
     "data": {
      "text/html": [
       "<div>\n",
       "<table border=\"1\" class=\"dataframe\">\n",
       "  <thead>\n",
       "    <tr style=\"text-align: right;\">\n",
       "      <th></th>\n",
       "      <th>Microcomputador</th>\n",
       "      <th>Cel</th>\n",
       "      <th>Tablet</th>\n",
       "      <th>Acesso_ao_3G_e_4G</th>\n",
       "      <th>Internet_Banda_larga</th>\n",
       "    </tr>\n",
       "  </thead>\n",
       "  <tbody>\n",
       "    <tr>\n",
       "      <th>167</th>\n",
       "      <td>Sim</td>\n",
       "      <td>Sim</td>\n",
       "      <td>Sim</td>\n",
       "      <td>Sim</td>\n",
       "      <td>Sim</td>\n",
       "    </tr>\n",
       "    <tr>\n",
       "      <th>176</th>\n",
       "      <td>Sim</td>\n",
       "      <td>Sim</td>\n",
       "      <td>Sim</td>\n",
       "      <td>Sim</td>\n",
       "      <td>Sim</td>\n",
       "    </tr>\n",
       "    <tr>\n",
       "      <th>249</th>\n",
       "      <td>Sim</td>\n",
       "      <td>Sim</td>\n",
       "      <td>Sim</td>\n",
       "      <td>Sim</td>\n",
       "      <td>Sim</td>\n",
       "    </tr>\n",
       "    <tr>\n",
       "      <th>339</th>\n",
       "      <td>Sim</td>\n",
       "      <td>Sim</td>\n",
       "      <td>Sim</td>\n",
       "      <td>Sim</td>\n",
       "      <td>Sim</td>\n",
       "    </tr>\n",
       "    <tr>\n",
       "      <th>601</th>\n",
       "      <td>Sim</td>\n",
       "      <td>Sim</td>\n",
       "      <td>Sim</td>\n",
       "      <td>Sim</td>\n",
       "      <td>Sim</td>\n",
       "    </tr>\n",
       "  </tbody>\n",
       "</table>\n",
       "</div>"
      ],
      "text/plain": [
       "    Microcomputador  Cel Tablet Acesso_ao_3G_e_4G Internet_Banda_larga\n",
       "167             Sim  Sim    Sim               Sim                  Sim\n",
       "176             Sim  Sim    Sim               Sim                  Sim\n",
       "249             Sim  Sim    Sim               Sim                  Sim\n",
       "339             Sim  Sim    Sim               Sim                  Sim\n",
       "601             Sim  Sim    Sim               Sim                  Sim"
      ]
     },
     "execution_count": 122,
     "metadata": {},
     "output_type": "execute_result"
    }
   ],
   "source": [
    "Ricos=Ricos[Ricos.Microcomputador == \"Sim\"]\n",
    "Ricos=Ricos[Ricos.Cel == \"Sim\"]\n",
    "Ricos=Ricos[Ricos.Tablet ==  \"Sim\"]\n",
    "Ricos=Ricos[Ricos.Internet_Banda_larga == \"Sim\"]\n",
    "Ricos=Ricos[Ricos.Acesso_ao_3G_e_4G == \"Sim\"]\n",
    "Ricos.head()"
   ]
  },
  {
   "cell_type": "markdown",
   "metadata": {},
   "source": [
    "# Potenciais futuros Clientes 3G e 4G"
   ]
  },
  {
   "cell_type": "code",
   "execution_count": 123,
   "metadata": {
    "collapsed": false
   },
   "outputs": [
    {
     "data": {
      "text/html": [
       "<div>\n",
       "<table border=\"1\" class=\"dataframe\">\n",
       "  <thead>\n",
       "    <tr style=\"text-align: right;\">\n",
       "      <th></th>\n",
       "      <th>Microcomputador</th>\n",
       "      <th>Cel</th>\n",
       "      <th>Tablet</th>\n",
       "      <th>Acesso_ao_3G_e_4G</th>\n",
       "      <th>Internet_Banda_larga</th>\n",
       "      <th>Internet_discada</th>\n",
       "      <th>Renda_Mensal_domiciliar</th>\n",
       "    </tr>\n",
       "  </thead>\n",
       "  <tbody>\n",
       "    <tr>\n",
       "      <th>17</th>\n",
       "      <td>Não</td>\n",
       "      <td>Sim</td>\n",
       "      <td>Sim</td>\n",
       "      <td>Não</td>\n",
       "      <td>Sim</td>\n",
       "      <td>Não</td>\n",
       "      <td>750.0</td>\n",
       "    </tr>\n",
       "    <tr>\n",
       "      <th>18</th>\n",
       "      <td>Sim</td>\n",
       "      <td>Sim</td>\n",
       "      <td>Não</td>\n",
       "      <td>Não</td>\n",
       "      <td>Sim</td>\n",
       "      <td>Não</td>\n",
       "      <td>1437.0</td>\n",
       "    </tr>\n",
       "    <tr>\n",
       "      <th>20</th>\n",
       "      <td>Sim</td>\n",
       "      <td>Sim</td>\n",
       "      <td>Não</td>\n",
       "      <td>Não</td>\n",
       "      <td>Sim</td>\n",
       "      <td>Não</td>\n",
       "      <td>933.0</td>\n",
       "    </tr>\n",
       "    <tr>\n",
       "      <th>23</th>\n",
       "      <td>Não</td>\n",
       "      <td>Sim</td>\n",
       "      <td>Não</td>\n",
       "      <td>Não</td>\n",
       "      <td>Sim</td>\n",
       "      <td>Não</td>\n",
       "      <td>2666.0</td>\n",
       "    </tr>\n",
       "    <tr>\n",
       "      <th>27</th>\n",
       "      <td>Sim</td>\n",
       "      <td>Sim</td>\n",
       "      <td>Não</td>\n",
       "      <td>Não</td>\n",
       "      <td>Sim</td>\n",
       "      <td>Não</td>\n",
       "      <td>3325.0</td>\n",
       "    </tr>\n",
       "  </tbody>\n",
       "</table>\n",
       "</div>"
      ],
      "text/plain": [
       "   Microcomputador  Cel Tablet Acesso_ao_3G_e_4G Internet_Banda_larga  \\\n",
       "17             Não  Sim    Sim               Não                  Sim   \n",
       "18             Sim  Sim    Não               Não                  Sim   \n",
       "20             Sim  Sim    Não               Não                  Sim   \n",
       "23             Não  Sim    Não               Não                  Sim   \n",
       "27             Sim  Sim    Não               Não                  Sim   \n",
       "\n",
       "   Internet_discada  Renda_Mensal_domiciliar  \n",
       "17              Não                    750.0  \n",
       "18              Não                   1437.0  \n",
       "20              Não                    933.0  \n",
       "23              Não                   2666.0  \n",
       "27              Não                   3325.0  "
      ]
     },
     "execution_count": 123,
     "metadata": {},
     "output_type": "execute_result"
    }
   ],
   "source": [
    "Pot3G_2015=dados_2015[dados_2015.Acesso_ao_3G_e_4G != \"Sim\"]\n",
    "Pot3G_2015=Pot3G_2015[(Pot3G_2015.Cel != \"Não\") | (Pot3G_2015.Tablet != \"Não\")]\n",
    "Pot3G_2015.head()"
   ]
  },
  {
   "cell_type": "markdown",
   "metadata": {},
   "source": [
    "# Potencial futuros Clientes Internet Banda Larga "
   ]
  },
  {
   "cell_type": "code",
   "execution_count": null,
   "metadata": {
    "collapsed": false
   },
   "outputs": [],
   "source": []
  },
  {
   "cell_type": "code",
   "execution_count": null,
   "metadata": {
    "collapsed": false
   },
   "outputs": [],
   "source": []
  },
  {
   "cell_type": "code",
   "execution_count": 124,
   "metadata": {
    "collapsed": false
   },
   "outputs": [
    {
     "data": {
      "text/html": [
       "<div>\n",
       "<table border=\"1\" class=\"dataframe\">\n",
       "  <thead>\n",
       "    <tr style=\"text-align: right;\">\n",
       "      <th></th>\n",
       "      <th>Microcomputador</th>\n",
       "      <th>Cel</th>\n",
       "      <th>Tablet</th>\n",
       "      <th>Acesso_ao_3G_e_4G</th>\n",
       "      <th>Internet_Banda_larga</th>\n",
       "      <th>Internet_discada</th>\n",
       "      <th>Renda_Mensal_domiciliar</th>\n",
       "    </tr>\n",
       "  </thead>\n",
       "  <tbody>\n",
       "    <tr>\n",
       "      <th>19</th>\n",
       "      <td>Sim</td>\n",
       "      <td>Não</td>\n",
       "      <td>Não</td>\n",
       "      <td>Não</td>\n",
       "      <td>Não</td>\n",
       "      <td>Sim</td>\n",
       "      <td>600.0</td>\n",
       "    </tr>\n",
       "    <tr>\n",
       "      <th>32</th>\n",
       "      <td>Sim</td>\n",
       "      <td>Não</td>\n",
       "      <td>Não</td>\n",
       "      <td>Não</td>\n",
       "      <td>Não</td>\n",
       "      <td>Sim</td>\n",
       "      <td>366.0</td>\n",
       "    </tr>\n",
       "    <tr>\n",
       "      <th>33</th>\n",
       "      <td>Sim</td>\n",
       "      <td>Não</td>\n",
       "      <td>Não</td>\n",
       "      <td>Não</td>\n",
       "      <td>Não</td>\n",
       "      <td>Sim</td>\n",
       "      <td>175.0</td>\n",
       "    </tr>\n",
       "    <tr>\n",
       "      <th>37</th>\n",
       "      <td>Sim</td>\n",
       "      <td>Sim</td>\n",
       "      <td>Não</td>\n",
       "      <td>Sim</td>\n",
       "      <td>Não</td>\n",
       "      <td>Sim</td>\n",
       "      <td>596.0</td>\n",
       "    </tr>\n",
       "    <tr>\n",
       "      <th>39</th>\n",
       "      <td>Sim</td>\n",
       "      <td>Sim</td>\n",
       "      <td>Sim</td>\n",
       "      <td>Sim</td>\n",
       "      <td>Não</td>\n",
       "      <td>Sim</td>\n",
       "      <td>196.0</td>\n",
       "    </tr>\n",
       "  </tbody>\n",
       "</table>\n",
       "</div>"
      ],
      "text/plain": [
       "   Microcomputador  Cel Tablet Acesso_ao_3G_e_4G Internet_Banda_larga  \\\n",
       "19             Sim  Não    Não               Não                  Não   \n",
       "32             Sim  Não    Não               Não                  Não   \n",
       "33             Sim  Não    Não               Não                  Não   \n",
       "37             Sim  Sim    Não               Sim                  Não   \n",
       "39             Sim  Sim    Sim               Sim                  Não   \n",
       "\n",
       "   Internet_discada  Renda_Mensal_domiciliar  \n",
       "19              Sim                    600.0  \n",
       "32              Sim                    366.0  \n",
       "33              Sim                    175.0  \n",
       "37              Sim                    596.0  \n",
       "39              Sim                    196.0  "
      ]
     },
     "execution_count": 124,
     "metadata": {},
     "output_type": "execute_result"
    }
   ],
   "source": [
    "PotNet=dados_2015[(dados_2015.Internet_discada == \"Sim\") | (dados_2015.Internet_Banda_larga == \"Não\")]\n",
    "PotNet=dados_2015[(dados_2015.Internet_discada == \"Sim\") | (dados_2015.Internet_Banda_larga == \"Não\")]\n",
    "Pot_Net_2015=PotNet[(PotNet.Internet_Banda_larga==\"Sim\")&(PotNet.Internet_discada==\"Sim\")]\n",
    "PotNet_2015=PotNet.drop(PotNet[(PotNet.Internet_Banda_larga==\"Sim\")].index,0)\n",
    "PotNet_2015.head()"
   ]
  },
  {
   "cell_type": "code",
   "execution_count": 125,
   "metadata": {
    "collapsed": false
   },
   "outputs": [],
   "source": [
    "dados_2015_Renda=dados_2015.iloc[:,-1]\n",
    "dados_2015_Renda.describe()\n",
    "Pot3G_renda_2015 = Pot3G.Renda_Mensal_domiciliar"
   ]
  },
  {
   "cell_type": "code",
   "execution_count": 126,
   "metadata": {
    "collapsed": true
   },
   "outputs": [],
   "source": [
    "Faixa=np.arange(0.5,)\n",
    "# plot=variavelQuant.plot.hist(bins=faixas,)"
   ]
  },
  {
   "cell_type": "markdown",
   "metadata": {},
   "source": [
    "# AJUSTANDO VALORES NULOS:999999999999"
   ]
  },
  {
   "cell_type": "code",
   "execution_count": 127,
   "metadata": {
    "collapsed": false
   },
   "outputs": [
    {
     "data": {
      "text/plain": [
       "count      869.000000\n",
       "mean      1670.758343\n",
       "std       1824.161309\n",
       "min          0.000000\n",
       "25%        666.000000\n",
       "50%       1125.000000\n",
       "75%       1950.000000\n",
       "max      14500.000000\n",
       "Name: Renda_Mensal_domiciliar, dtype: float64"
      ]
     },
     "execution_count": 127,
     "metadata": {},
     "output_type": "execute_result"
    }
   ],
   "source": [
    "PotNet2_renda_2015=Pot_Net_2015.iloc[:,-1]\n",
    "PotNet2_renda_2015=PotNet2_renda[(PotNet2_renda<999999999999)]\n",
    "PotNet2_renda_2015=PotNet2_renda[(PotNet2_renda<21000)]\n",
    "Pot3G_renda_2015=Pot3G_renda[(Pot3G_renda<999999999999)]\n",
    "Pot3G_renda_2015=Pot3G_renda_2015[(Pot3G_renda_2015<21000)]\n",
    "PotNet2_renda.describe()\n"
   ]
  },
  {
   "cell_type": "code",
   "execution_count": 128,
   "metadata": {
    "collapsed": false
   },
   "outputs": [
    {
     "name": "stdout",
     "output_type": "stream",
     "text": [
      "mean      1.670758e+03\n",
      "median    1.125000e+03\n",
      "std       1.824161e+03\n",
      "mad       1.139093e+03\n",
      "var       3.327564e+06\n",
      "dtype: float64\n"
     ]
    }
   ],
   "source": [
    "idx = ['mean','median','std','mad','var']\n",
    "\n",
    "\n",
    "df = pd.Series([ PotNet2_renda_2015.mean(), \n",
    "                             PotNet2_renda_2015.median(), \n",
    "                             PotNet2_renda_2015.std(),\n",
    "                             PotNet2_renda_2015.mad(), \n",
    "                             PotNet2_renda_2015.var(), \n",
    "               ], index=idx)\n",
    "    \n",
    "print(df)"
   ]
  },
  {
   "cell_type": "markdown",
   "metadata": {},
   "source": [
    "# Graficos:"
   ]
  },
  {
   "cell_type": "code",
   "execution_count": 129,
   "metadata": {
    "collapsed": false
   },
   "outputs": [],
   "source": [
    "# fig = plt.figure(figsize=(10, 10))\n",
    "\n",
    "# plt.subplot(223)\n",
    "# d2.plot(kind='pie', colors=('blue', 'red'), autopct=\"%0.2f\", legend=False)\n",
    "# plt.subplot(221)\n",
    "# d1.plot(kind='pie', colors=('blue', 'red'), autopct=\"%0.2f\", legend=False)\n",
    "# plt.subplot(221)\n",
    "# ct1"
   ]
  },
  {
   "cell_type": "code",
   "execution_count": 130,
   "metadata": {
    "collapsed": false
   },
   "outputs": [
    {
     "name": "stdout",
     "output_type": "stream",
     "text": [
      "mean      1.670758e+03\n",
      "median    1.125000e+03\n",
      "std       1.824161e+03\n",
      "mad       1.139093e+03\n",
      "var       3.327564e+06\n",
      "dtype: float64\n"
     ]
    },
    {
     "data": {
      "image/png": "[encoded data removed]",
      "text/plain": [
       "<matplotlib.figure.Figure at 0x4955c0d128>"
      ]
     },
     "metadata": {},
     "output_type": "display_data"
    }
   ],
   "source": [
    "fig = plt.figure(figsize=(20,20))\n",
    "plt.subplot(222)\n",
    "plot = PotNet2_renda_2015.plot(kind='box',title='Renda domiciliar')#, color='red')\n",
    "idx = ['mean','median','std','mad','var']\n",
    "df = pd.Series([ PotNet2_renda_2015.mean(), \n",
    "                             PotNet2_renda_2015.median(), \n",
    "                             PotNet2_renda_2015.std(),\n",
    "                             PotNet2_renda_2015.mad(), \n",
    "                             PotNet2_renda_2015.var(), \n",
    "               ], index=idx)\n",
    "print(df)"
   ]
  },
  {
   "cell_type": "code",
   "execution_count": 131,
   "metadata": {
    "collapsed": false
   },
   "outputs": [
    {
     "name": "stdout",
     "output_type": "stream",
     "text": [
      "mean      1.517718e+03\n",
      "median    9.720000e+02\n",
      "std       1.776428e+03\n",
      "mad       1.084261e+03\n",
      "var       3.155696e+06\n",
      "dtype: float64\n"
     ]
    },
    {
     "data": {
      "image/png": "[encoded data removed]",
      "text/plain": [
       "<matplotlib.figure.Figure at 0x4955b09080>"
      ]
     },
     "metadata": {},
     "output_type": "display_data"
    }
   ],
   "source": [
    "fig = plt.figure(figsize=(20,20))\n",
    "plt.subplot(222)\n",
    "plot = Pot3G_renda_2015.plot(kind='box',title='Renda domiciliar')#, color='red')\n",
    "\n",
    "idx = ['mean','median','std','mad','var']\n",
    "df = pd.Series([ Pot3G_renda_2015.mean(), \n",
    "                             Pot3G_renda_2015.median(), \n",
    "                             Pot3G_renda_2015.std(),\n",
    "                             Pot3G_renda_2015.mad(), \n",
    "                             Pot3G_renda_2015.var(), \n",
    "               ], index=idx)\n",
    "print(df)\n"
   ]
  },
  {
   "cell_type": "code",
   "execution_count": 132,
   "metadata": {
    "collapsed": true
   },
   "outputs": [],
   "source": [
    "dadosP_2015 = pd.DataFrame({\n",
    "    'Potencial_Internet':((dados_2015.Internet_discada == \"Sim\") | (dados_2015.Internet_Banda_larga == \"Não\"))&(dados_2015.Internet_Banda_larga!=\"Sim\"),\n",
    "    'Potencial_3G':(dados_2015.Acesso_ao_3G_e_4G != \"Sim\")&((dados_2015.Cel != \"Não\") | (dados_2015.Tablet != \"Não\"))\n",
    "\n",
    "})\n",
    "\n",
    "\n",
    "\n",
    "dadosP_2014 = pd.DataFrame({\n",
    "    'Potencial_Internet':((dados_2014.Internet_discada == \"Sim\") | (dados_2014.Internet_Banda_larga == \"Não\"))&(dados_2014.Internet_Banda_larga!=\"Sim\"),\n",
    "    'Potencial_3G':(dados_2014.Acesso_ao_3G_e_4G != \"Sim\")&((dados_2014.Cel != \"Não\") | (dados_2014.Tablet != \"Não\"))\n",
    "\n",
    "})\n",
    "\n",
    "\n",
    "\n",
    "dadosP_2013 = pd.DataFrame({\n",
    "    'Potencial_Internet':((dados_2013.Internet_discada == \"Sim\") | (dados_2013.Internet_Banda_larga == \"Não\"))&(dados_2013.Internet_Banda_larga!=\"Sim\"),\n",
    "    'Potencial_3G':(dados_2013.Acesso_ao_3G_e_4G != \"Sim\")&((dados_2013.Cel != \"Não\") | (dados_2013.Tablet != \"Não\"))\n",
    "\n",
    "})\n",
    "\n",
    "dadosP_2015[\"Potencial_Internet\"]=dadosP_2015[\"Potencial_Internet\"].astype('category')\n",
    "dadosP_2015[\"Potencial_Internet\"].cat.categories = [\"Não\", \"Sim\"]\n",
    "dadosP_2015[\"Potencial_3G\"]=dadosP_2015[\"Potencial_3G\"].astype('category')\n",
    "dadosP_2015[\"Potencial_3G\"].cat.categories = [\"Não\", \"Sim\"]\n",
    "\n",
    "\n",
    "dadosP_2014[\"Potencial_Internet\"]=dadosP_2014[\"Potencial_Internet\"].astype('category')\n",
    "dadosP_2014[\"Potencial_Internet\"].cat.categories = [\"Não\", \"Sim\"]\n",
    "dadosP_2014[\"Potencial_3G\"]=dadosP_2014[\"Potencial_3G\"].astype('category')\n",
    "dadosP_2014[\"Potencial_3G\"].cat.categories = [\"Não\", \"Sim\"]\n",
    "\n",
    "\n",
    "dadosP_2013[\"Potencial_Internet\"]=dadosP_2013[\"Potencial_Internet\"].astype('category')\n",
    "dadosP_2013[\"Potencial_Internet\"].cat.categories = [\"Não\", \"Sim\"]\n",
    "dadosP_2013[\"Potencial_3G\"]=dadosP_2013[\"Potencial_3G\"].astype('category')\n",
    "dadosP_2013[\"Potencial_3G\"].cat.categories = [\"Não\", \"Sim\"]"
   ]
  },
  {
   "cell_type": "code",
   "execution_count": 184,
   "metadata": {
    "collapsed": false
   },
   "outputs": [
    {
     "name": "stdout",
     "output_type": "stream",
     "text": [
      "Tabela comparando o potencial de Internet com o Potencial de 3G\n"
     ]
    },
    {
     "data": {
      "image/png": "[encoded data removed]",
      "text/plain": [
       "<matplotlib.figure.Figure at 0x49567ab588>"
      ]
     },
     "metadata": {},
     "output_type": "display_data"
    },
    {
     "data": {
      "image/png": "[encoded data removed]",
      "text/plain": [
       "<matplotlib.figure.Figure at 0x4955a0df98>"
      ]
     },
     "metadata": {},
     "output_type": "display_data"
    },
    {
     "data": {
      "image/png": "[encoded data removed]",
      "text/plain": [
       "<matplotlib.figure.Figure at 0x4956324e80>"
      ]
     },
     "metadata": {},
     "output_type": "display_data"
    }
   ],
   "source": [
    "print(\"Tabela comparando o potencial de Internet com o Potencial de 3G\")\n",
    "# print(\"Perebemos que o potencial de investimento deste ano e maior na Internet do que no 3G\")\n",
    "ct2015=pd.crosstab(dadosP_2015.Potencial_3G , dadosP_2015.Potencial_Internet)\n",
    "ct2015.plot(kind='bar', title=\"2015\",figsize=(6,6),color=('red','blue'))\n",
    "\n",
    "                                                          \n",
    "ct2014=pd.crosstab(dadosP_2014.Potencial_3G , dadosP_2014.Potencial_Internet)\n",
    "ct2014.plot(kind='bar', title=\"2014\",figsize=(6,6),color=('red','blue'))\n",
    "\n",
    "\n",
    "ct2013=pd.crosstab(dadosP_2013.Potencial_3G , dadosP_2013.Potencial_Internet)\n",
    "ct2013.plot(kind='bar', title=\"2013\",figsize=(6,6),color=('red','blue'))\n",
    "\n",
    "\n",
    "plt.show()"
   ]
  },
  {
   "cell_type": "code",
   "execution_count": 179,
   "metadata": {
    "collapsed": false
   },
   "outputs": [
    {
     "ename": "TypeError",
     "evalue": "Categorical cannot perform the operation sum",
     "output_type": "error",
     "traceback": [
      "\u001b[0;31m---------------------------------------------------------------------------\u001b[0m",
      "\u001b[0;31mTypeError\u001b[0m                                 Traceback (most recent call last)",
      "\u001b[0;32m<ipython-input-179-e0cec62f62d4>\u001b[0m in \u001b[0;36m<module>\u001b[0;34m()\u001b[0m\n\u001b[0;32m----> 1\u001b[0;31m \u001b[0mdadosP_2014\u001b[0m\u001b[1;33m.\u001b[0m\u001b[0mPotencial_3G\u001b[0m\u001b[1;33m.\u001b[0m\u001b[0msum\u001b[0m\u001b[1;33m(\u001b[0m\u001b[1;34m\"Sim\"\u001b[0m\u001b[1;33m)\u001b[0m\u001b[1;33m\u001b[0m\u001b[0m\n\u001b[0m",
      "\u001b[0;32mC:\\Users\\andra_000\\Anaconda3\\lib\\site-packages\\pandas\\core\\generic.py\u001b[0m in \u001b[0;36mstat_func\u001b[0;34m(self, axis, skipna, level, numeric_only, **kwargs)\u001b[0m\n\u001b[1;32m   5630\u001b[0m                                       skipna=skipna)\n\u001b[1;32m   5631\u001b[0m         return self._reduce(f, name, axis=axis, skipna=skipna,\n\u001b[0;32m-> 5632\u001b[0;31m                             numeric_only=numeric_only)\n\u001b[0m\u001b[1;32m   5633\u001b[0m \u001b[1;33m\u001b[0m\u001b[0m\n\u001b[1;32m   5634\u001b[0m     \u001b[1;32mreturn\u001b[0m \u001b[0mset_function_name\u001b[0m\u001b[1;33m(\u001b[0m\u001b[0mstat_func\u001b[0m\u001b[1;33m,\u001b[0m \u001b[0mname\u001b[0m\u001b[1;33m,\u001b[0m \u001b[0mcls\u001b[0m\u001b[1;33m)\u001b[0m\u001b[1;33m\u001b[0m\u001b[0m\n",
      "\u001b[0;32mC:\\Users\\andra_000\\Anaconda3\\lib\\site-packages\\pandas\\core\\series.py\u001b[0m in \u001b[0;36m_reduce\u001b[0;34m(self, op, name, axis, skipna, numeric_only, filter_type, **kwds)\u001b[0m\n\u001b[1;32m   2322\u001b[0m         return delegate._reduce(op=op, name=name, axis=axis, skipna=skipna,\n\u001b[1;32m   2323\u001b[0m                                 \u001b[0mnumeric_only\u001b[0m\u001b[1;33m=\u001b[0m\u001b[0mnumeric_only\u001b[0m\u001b[1;33m,\u001b[0m\u001b[1;33m\u001b[0m\u001b[0m\n\u001b[0;32m-> 2324\u001b[0;31m                                 filter_type=filter_type, **kwds)\n\u001b[0m\u001b[1;32m   2325\u001b[0m \u001b[1;33m\u001b[0m\u001b[0m\n\u001b[1;32m   2326\u001b[0m     \u001b[1;32mdef\u001b[0m \u001b[0m_reindex_indexer\u001b[0m\u001b[1;33m(\u001b[0m\u001b[0mself\u001b[0m\u001b[1;33m,\u001b[0m \u001b[0mnew_index\u001b[0m\u001b[1;33m,\u001b[0m \u001b[0mindexer\u001b[0m\u001b[1;33m,\u001b[0m \u001b[0mcopy\u001b[0m\u001b[1;33m)\u001b[0m\u001b[1;33m:\u001b[0m\u001b[1;33m\u001b[0m\u001b[0m\n",
      "\u001b[0;32mC:\\Users\\andra_000\\Anaconda3\\lib\\site-packages\\pandas\\core\\categorical.py\u001b[0m in \u001b[0;36m_reduce\u001b[0;34m(self, op, name, axis, skipna, numeric_only, filter_type, **kwds)\u001b[0m\n\u001b[1;32m   1747\u001b[0m         \u001b[1;32mif\u001b[0m \u001b[0mfunc\u001b[0m \u001b[1;32mis\u001b[0m \u001b[1;32mNone\u001b[0m\u001b[1;33m:\u001b[0m\u001b[1;33m\u001b[0m\u001b[0m\n\u001b[1;32m   1748\u001b[0m             raise TypeError(\"Categorical cannot perform the operation \"\n\u001b[0;32m-> 1749\u001b[0;31m                             \"{op}\".format(op=name))\n\u001b[0m\u001b[1;32m   1750\u001b[0m         \u001b[1;32mreturn\u001b[0m \u001b[0mfunc\u001b[0m\u001b[1;33m(\u001b[0m\u001b[0mnumeric_only\u001b[0m\u001b[1;33m=\u001b[0m\u001b[0mnumeric_only\u001b[0m\u001b[1;33m,\u001b[0m \u001b[1;33m**\u001b[0m\u001b[0mkwds\u001b[0m\u001b[1;33m)\u001b[0m\u001b[1;33m\u001b[0m\u001b[0m\n\u001b[1;32m   1751\u001b[0m \u001b[1;33m\u001b[0m\u001b[0m\n",
      "\u001b[0;31mTypeError\u001b[0m: Categorical cannot perform the operation sum"
     ]
    }
   ],
   "source": []
  },
  {
   "cell_type": "code",
   "execution_count": 173,
   "metadata": {
    "collapsed": false
   },
   "outputs": [],
   "source": []
  },
  {
   "cell_type": "code",
   "execution_count": 135,
   "metadata": {
    "collapsed": false
   },
   "outputs": [
    {
     "data": {
      "text/html": [
       "<div>\n",
       "<table border=\"1\" class=\"dataframe\">\n",
       "  <thead>\n",
       "    <tr style=\"text-align: right;\">\n",
       "      <th></th>\n",
       "      <th>Microcomputador</th>\n",
       "      <th>Cel</th>\n",
       "      <th>Tablet</th>\n",
       "      <th>Acesso_ao_3G_e_4G</th>\n",
       "      <th>Internet_Banda_larga</th>\n",
       "      <th>Internet_discada</th>\n",
       "      <th>Renda_Mensal_domiciliar</th>\n",
       "    </tr>\n",
       "  </thead>\n",
       "  <tbody>\n",
       "    <tr>\n",
       "      <th>19</th>\n",
       "      <td>Sim</td>\n",
       "      <td>Não</td>\n",
       "      <td>Não</td>\n",
       "      <td>Não</td>\n",
       "      <td>Não</td>\n",
       "      <td>Sim</td>\n",
       "      <td>600.0</td>\n",
       "    </tr>\n",
       "    <tr>\n",
       "      <th>32</th>\n",
       "      <td>Sim</td>\n",
       "      <td>Não</td>\n",
       "      <td>Não</td>\n",
       "      <td>Não</td>\n",
       "      <td>Não</td>\n",
       "      <td>Sim</td>\n",
       "      <td>366.0</td>\n",
       "    </tr>\n",
       "    <tr>\n",
       "      <th>33</th>\n",
       "      <td>Sim</td>\n",
       "      <td>Não</td>\n",
       "      <td>Não</td>\n",
       "      <td>Não</td>\n",
       "      <td>Não</td>\n",
       "      <td>Sim</td>\n",
       "      <td>175.0</td>\n",
       "    </tr>\n",
       "    <tr>\n",
       "      <th>37</th>\n",
       "      <td>Sim</td>\n",
       "      <td>Sim</td>\n",
       "      <td>Não</td>\n",
       "      <td>Sim</td>\n",
       "      <td>Não</td>\n",
       "      <td>Sim</td>\n",
       "      <td>596.0</td>\n",
       "    </tr>\n",
       "    <tr>\n",
       "      <th>39</th>\n",
       "      <td>Sim</td>\n",
       "      <td>Sim</td>\n",
       "      <td>Sim</td>\n",
       "      <td>Sim</td>\n",
       "      <td>Não</td>\n",
       "      <td>Sim</td>\n",
       "      <td>196.0</td>\n",
       "    </tr>\n",
       "  </tbody>\n",
       "</table>\n",
       "</div>"
      ],
      "text/plain": [
       "   Microcomputador  Cel Tablet Acesso_ao_3G_e_4G Internet_Banda_larga  \\\n",
       "19             Sim  Não    Não               Não                  Não   \n",
       "32             Sim  Não    Não               Não                  Não   \n",
       "33             Sim  Não    Não               Não                  Não   \n",
       "37             Sim  Sim    Não               Sim                  Não   \n",
       "39             Sim  Sim    Sim               Sim                  Não   \n",
       "\n",
       "   Internet_discada  Renda_Mensal_domiciliar  \n",
       "19              Sim                    600.0  \n",
       "32              Sim                    366.0  \n",
       "33              Sim                    175.0  \n",
       "37              Sim                    596.0  \n",
       "39              Sim                    196.0  "
      ]
     },
     "execution_count": 135,
     "metadata": {},
     "output_type": "execute_result"
    }
   ],
   "source": [
    "# GPot3Gcel.describe() \n",
    "# GPot3Gcel = (Pot3G.Cel.value_counts(normalize=True)*100).round(decimals=1)\n",
    "# GPot3Gcel\n",
    "PotNet2.head()"
   ]
  },
  {
   "cell_type": "code",
   "execution_count": 136,
   "metadata": {
    "collapsed": false
   },
   "outputs": [
    {
     "data": {
      "text/plain": [
       "Não    100.0\n",
       "Sim      0.0\n",
       "Name: Acesso_ao_3G_e_4G, dtype: float64"
      ]
     },
     "execution_count": 136,
     "metadata": {},
     "output_type": "execute_result"
    }
   ],
   "source": [
    "GPot3G = (Pot3G.Acesso_ao_3G_e_4G.value_counts(normalize=True)*100).round(decimals=1)\n",
    "GPot3G\n",
    "# GPotNet =(PotNet2.Internet_Banda_larga.value_counts(normalize=True)*100).round(decimals=1)"
   ]
  },
  {
   "cell_type": "code",
   "execution_count": 137,
   "metadata": {
    "collapsed": false
   },
   "outputs": [],
   "source": [
    "# print('Clientes com potencial em Internet Banda Larga!:')\n",
    "# PotNet_2015 = (PotNet2.Internet_discada.value_counts(normalize=True)*100).round(decimals=1)\n",
    "\n",
    "# plot = PotNet_2015.plot(kind='pie', colors=('red', 'blue'),legend=True,title='Potencial Internet de Escada',autopct='%.1f',figsize=(6, 6))\n",
    "# plt.ylabel('Freq.Relativa (em%)')\n",
    "# print('Frequências relativas por Estado Civil:')\n",
    "# ut2 = (Pot3G.value_counts(normalize=True)*100).round(decimals=1)\n",
    "# print(ut2,'\\n')"
   ]
  },
  {
   "cell_type": "code",
   "execution_count": 138,
   "metadata": {
    "collapsed": false
   },
   "outputs": [],
   "source": [
    "# plot = PotNet2015.plot(kind='pie', colors=('red', 'blue'),legend=True,title='Potencial Internet de Escada',autopct='%.1f',figsize=(6, 6))\n",
    "# plt.ylabel('Freq.Relativa (em%)')"
   ]
  }
 ],
 "metadata": {
  "anaconda-cloud": {},
  "kernelspec": {
   "display_name": "Python 3",
   "language": "python",
   "name": "python3"
  },
  "language_info": {
   "codemirror_mode": {
    "name": "ipython",
    "version": 3
   },
   "file_extension": ".py",
   "mimetype": "text/x-python",
   "name": "python",
   "nbconvert_exporter": "python",
   "pygments_lexer": "ipython3",
   "version": "3.6.0"
  }
 },
 "nbformat": 4,
 "nbformat_minor": 1
}
